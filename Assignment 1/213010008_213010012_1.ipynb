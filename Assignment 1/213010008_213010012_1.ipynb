{
  "nbformat": 4,
  "nbformat_minor": 0,
  "metadata": {
    "colab": {
      "name": "213010008_213010012_1.ipynb",
      "provenance": [],
      "collapsed_sections": []
    },
    "kernelspec": {
      "name": "python3",
      "display_name": "Python 3"
    },
    "language_info": {
      "name": "python"
    }
  },
  "cells": [
    {
      "cell_type": "markdown",
      "source": [
        "#**EE769 Introduction to Machine Learning**\n",
        "\n",
        "#Assignment 1: Gradient Descent, Linear Regression, and Regularization\n",
        "\n",
        "\n",
        "**Template and Instructions**\n",
        "\n",
        "\n",
        "\n",
        "1. Up to two people can team up, but only one should submit, and both should understand the entire code.\n",
        "2. Every line of code should end in a comment explaining the line\n",
        "3. It is recommended to solve the assignment in Google Colab.\n",
        "Write your roll no.s separated by commas here: 213010008, 213010012\n",
        "4. Write your names here: Shipali , Vedanth S Saoor\n",
        "5. There are two parts to the assignment. In the Part 1, the code format has to be strictly followed to enable auto-grading. In the second part, you can be creative.\n",
        "6. **You can discuss with other groups or refer to the internet without being penalized, but you cannot copy their code and modify it. Write every line of code and comment on your own.**"
      ],
      "metadata": {
        "id": "Jo_isxhRiViN"
      }
    },
    {
      "cell_type": "markdown",
      "source": [
        "#PART 1"
      ],
      "metadata": {
        "id": "BFDCGGofi2ja"
      }
    },
    {
      "cell_type": "markdown",
      "source": [
        "## Import Statements"
      ],
      "metadata": {
        "id": "kFS2rsYDjB15"
      }
    },
    {
      "cell_type": "code",
      "source": [
        "import numpy as np\n",
        "import pandas as pd\n",
        "from matplotlib import pyplot as plt"
      ],
      "metadata": {
        "id": "sDKrNxw0KPQ4"
      },
      "execution_count": 1,
      "outputs": []
    },
    {
      "cell_type": "markdown",
      "source": [
        "## Normalize function \n"
      ],
      "metadata": {
        "id": "NzLBw-kTjUPF"
      }
    },
    {
      "cell_type": "code",
      "source": [
        "def Normalize(X): # Output should be a normalized data matrix of the same dimension\n",
        "    '''\n",
        "    Normalize all columns of X using mean and standard deviation\n",
        "    '''\n",
        "    row=0 \n",
        "    col=0\n",
        "    mean=0\n",
        "    if(X.shape[0] == X.size):\n",
        "        X=(X-X.mean())/X.std()\n",
        "        return X\n",
        "    else:\n",
        "      # Column wise normalization\n",
        "        row,col=X.shape\n",
        "        Y=np.zeros((row,col),dtype=np.float64)\n",
        "        for i in range(col):\n",
        "            mean=X[:,[i]].mean()   #Finding the mean of the particular column\n",
        "            std=X[:,[i]].std()     #Finding the standard deviation of the particular column\n",
        "            for j in range(row):\n",
        "                Y[j][i] = (X[j][i] - mean)/std\n",
        "        return Y"
      ],
      "metadata": {
        "id": "slQ4PVr6KPtX"
      },
      "execution_count": 2,
      "outputs": []
    },
    {
      "cell_type": "code",
      "source": [
        "'''\n",
        "TEST CASES, DO NOT CHANGE\n",
        "'''\n",
        "''' case 1 - 1 dimensional array'''\n",
        "#X=np.array([[1,2,3],[3,4,5],[7,8,9]])\n",
        "X1=np.array([1,2,3])\n",
        "np.testing.assert_array_almost_equal(Normalize(X1),np.array([-1.224,  0.      ,  1.224]),decimal=3)\n",
        "''' case 2 - 2 dimensional array'''\n",
        "X2=np.array([[4,7,6],[3,8,9],[5,11,10]])\n",
        "np.testing.assert_array_almost_equal(Normalize(X2),np.array([[ 0.  , -0.980581, -1.372813],[-1.224745, -0.392232,  0.392232],[ 1.224745,  1.372813,  0.980581]]))\n",
        "''' case 3 - 1 dimensional array with float'''\n",
        "X3=np.array([5.5,6.7,3.2,6.7])\n",
        "np.testing.assert_array_almost_equal(Normalize(X3),np.array([-0.017,  0.822, -1.627,  0.822]),decimal=3)"
      ],
      "metadata": {
        "id": "kYA3z8yHKScz"
      },
      "execution_count": 3,
      "outputs": []
    },
    {
      "cell_type": "markdown",
      "source": [
        "## Prediction Function\n",
        "\n",
        "Given X and w, compute the predicted output."
      ],
      "metadata": {
        "id": "gmkjPezKjJwv"
      }
    },
    {
      "cell_type": "code",
      "source": [
        "def Prediction (X, w): # Output should be a prediction vector y\n",
        "    '''\n",
        "    Compute Prediction given an input datamatrix X and weight vecor w. Output y = [X 1]w where 1 is a vector of all 1s \n",
        "    '''\n",
        "    ones = np.ones([len(X),1],dtype=int)\n",
        "    X=np.append(X,ones,axis=1)    #Appending ones to the X matrix \n",
        "    Y=np.dot(X,w)                 #Finding the dot product between X and w\n",
        "    return Y\n",
        "\n",
        "    raise NotImplementedError()\n"
      ],
      "metadata": {
        "id": "F8iYYuS0KYCL"
      },
      "execution_count": 4,
      "outputs": []
    },
    {
      "cell_type": "code",
      "source": [
        "'''\n",
        "TEST CASES, DO NOT CHANGE\n",
        "'''\n",
        "''' case 1 - Known input output matrix and weights 1'''\n",
        "X1 = np.array([[3,2],[1,1]])\n",
        "w1 = np.array([2,1,1]) \n",
        "np.testing.assert_array_equal(Prediction(X1,w1),np.array([9,4]))\n"
      ],
      "metadata": {
        "id": "F16GimpoKaC4"
      },
      "execution_count": 5,
      "outputs": []
    },
    {
      "cell_type": "markdown",
      "source": [
        "## Loss Functions\n",
        "\n",
        "1. MSE loss is only for the error\n",
        "2. MAE loss is only for the error\n",
        "3. L2 loss is for MSE and L2 regularization\n",
        "4. L1 loss is for MSE and L1 regularization"
      ],
      "metadata": {
        "id": "RhMt9iLZjeKN"
      }
    },
    {
      "cell_type": "code",
      "source": [
        "def MSE_Loss (X, t, w, lamda =0): # Ouput should be a single number\n",
        "    '''\n",
        "    lamda=0 is a default argument to prevent errors if you pass lamda to a function that doesn't need it by mistake. \n",
        "    This allows us to call all loss functions with the same input format.\n",
        "    \n",
        "    You are encouraged read about default arguments by yourself online if you're not familiar.\n",
        "    '''\n",
        "    pred=Prediction(X,w).reshape(len(X),1) #Predicting the values for given X and w and reshaping them\n",
        "    target=t.reshape(len(X),1)\n",
        "    #Both the arrays are reshaped to make sure they have the same dimensions\n",
        "    \n",
        "    return((1/len(X))*np.sum((pred-target)**2))   #Returning MSE loss \n",
        "    raise NotImplementedError()"
      ],
      "metadata": {
        "id": "ar8iuhHrKcH6"
      },
      "execution_count": 6,
      "outputs": []
    },
    {
      "cell_type": "code",
      "source": [
        "'''\n",
        "TEST CASES, DO NOT CHANGE\n",
        "'''\n",
        "''' case 1 '''\n",
        "X=np.array([[3,6,5],[4.5,6.6,6]])\n",
        "t=np.array([4,5.5])\n",
        "w=np.array([2,-1,0.5,1])\n",
        "np.testing.assert_almost_equal(MSE_Loss(X,t,w),0.53,decimal=3)\n"
      ],
      "metadata": {
        "id": "RPGRnWeqKeXa"
      },
      "execution_count": 7,
      "outputs": []
    },
    {
      "cell_type": "code",
      "source": [
        "def MAE_Loss (X, t, w, lamda = 0): # Output should be a single number\n",
        "\n",
        "    return((1/len(X))*np.sum(abs(Prediction(X,w) - t))) #Finding the Mean absolute error\n",
        "    raise NotImplementedError()"
      ],
      "metadata": {
        "id": "HsnXL5o7KgS3"
      },
      "execution_count": 8,
      "outputs": []
    },
    {
      "cell_type": "code",
      "source": [
        "'''\n",
        "TEST CASES, DO NOT CHANGE\n",
        "'''\n",
        "''' case 1 '''\n",
        "X=np.array([[3,6,5],[4.5,6.6,6]])\n",
        "t=np.array([4,5.5])\n",
        "w=np.array([2,-1,0.5,1])\n",
        "np.testing.assert_almost_equal(MAE_Loss(X,t,w),0.700,decimal=3)\n"
      ],
      "metadata": {
        "id": "w4qd1H7uKiyN"
      },
      "execution_count": 9,
      "outputs": []
    },
    {
      "cell_type": "code",
      "source": [
        "def L2_Loss (X, t, w, lamda=0): # Output should be a single number\n",
        "    ''' Need to specify what inputs are'''\n",
        "\n",
        "    #The bias is not considered while calculating the loss\n",
        "    L2 =  MSE_Loss(X,t,w) + lamda *np.sqrt(np.sum(w[:-1]**2))\n",
        "    return L2\n",
        "    raise NotImplementedError()"
      ],
      "metadata": {
        "id": "4seCj2sVKknj"
      },
      "execution_count": 10,
      "outputs": []
    },
    {
      "cell_type": "code",
      "source": [
        "'''\n",
        "TEST CASES, DO NOT CHANGE\n",
        "'''\n",
        "''' case 1 '''\n",
        "X=np.array([[3,6,5],[4.5,6.6,6]])\n",
        "t=np.array([4,5.5])\n",
        "w=np.array([2,-1,0.5,1])\n",
        "np.testing.assert_almost_equal(L2_Loss(X,t,w,0.5),1.675,decimal=3)\n"
      ],
      "metadata": {
        "id": "Z-BpGT33KmGo"
      },
      "execution_count": 11,
      "outputs": []
    },
    {
      "cell_type": "code",
      "source": [
        "def L1_Loss (X, t, w, lamda): # Output should be a single number\n",
        "\n",
        "    #The bias is not considered for calculating L1_loss\n",
        "    _w=w[:-1]\n",
        "    L1= MSE_Loss(X,t,w) + ((lamda)*np.sum(abs(_w))) \n",
        "    return L1\n",
        "    raise NotImplementedError()"
      ],
      "metadata": {
        "id": "vf7x2fcUKonK"
      },
      "execution_count": 12,
      "outputs": []
    },
    {
      "cell_type": "code",
      "source": [
        "'''\n",
        "TEST CASES, DO NOT CHANGE\n",
        "'''\n",
        "''' case 1 '''\n",
        "X=np.array([[3,6,5],[4.5,6.6,6]])\n",
        "t=np.array([4,5.5])\n",
        "w=np.array([2,-1,0.5,1])\n",
        "np.testing.assert_almost_equal(L1_Loss(X,t,w,0.5),2.280,decimal=3)\n"
      ],
      "metadata": {
        "id": "WyW7WslNKrZu"
      },
      "execution_count": 13,
      "outputs": []
    },
    {
      "cell_type": "code",
      "source": [
        "def NRMSE_Metric (X, t, w,lamda=0): # Output should be a single number\n",
        "\n",
        "    #The NRMSE is found using the following formula\n",
        "    return (MSE_Loss(X,t,w))**(1/2)/np.std(t)\n",
        "    raise NotImplementedError()"
      ],
      "metadata": {
        "id": "cICDxteLKtb-"
      },
      "execution_count": 14,
      "outputs": []
    },
    {
      "cell_type": "code",
      "source": [
        "'''\n",
        "TEST CASES, DO NOT CHANGE\n",
        "'''\n",
        "''' Test case 1 '''\n",
        "X=np.array([[3,6,5],[4.5,6.6,6]])\n",
        "t=np.array([4,5.5])\n",
        "w=np.array([2,-1,0.5,1])\n",
        "np.testing.assert_almost_equal(NRMSE_Metric(X,t,w,0.5),0.970,decimal=3)\n"
      ],
      "metadata": {
        "id": "mXEr5m7DKvwR"
      },
      "execution_count": 15,
      "outputs": []
    },
    {
      "cell_type": "markdown",
      "source": [
        "## Gradient function\n",
        "Each Loss function will have its own gradient function:\n",
        "\n",
        "1. MSE gradient is only for the error\n",
        "2. MAE gradient is only for the error\n",
        "3. L2 gradient is for MSE and L2 regularization\n",
        "4. L1 gradient is for MSE and L1 regularization"
      ],
      "metadata": {
        "id": "i_-SMC62jvA1"
      }
    },
    {
      "cell_type": "code",
      "source": [
        "def MSE_Gradient (X, t, w, lamda=0):\n",
        "  \n",
        "    pred = Prediction(X,w).reshape(len(X),1)\n",
        "    target = t.reshape(len(X),1)\n",
        "\n",
        "    #The bias is not considered while estimating the gradient\n",
        "    grad = 2*(1/len(X))*np.dot(np.transpose(X),(pred-target))\n",
        "    bias_grad=2*(1/len(X))*np.sum((Prediction(X,w)-t))\n",
        "    grad = np.append(grad,bias_grad)\n",
        "    return grad\n",
        "    raise NotImplementedError()"
      ],
      "metadata": {
        "id": "NEfZnWBJKxOA"
      },
      "execution_count": 16,
      "outputs": []
    },
    {
      "cell_type": "code",
      "source": [
        "'''\n",
        "TEST CASES, DO NOT CHANGE\n",
        "'''\n",
        "''' case 1 '''\n",
        "X=np.array([[3,6,5],[4.5,6.6,6]])\n",
        "t=np.array([4,5.5])\n",
        "w=np.array([2,-1,0.5,1])\n",
        "np.testing.assert_array_almost_equal(MSE_Gradient(X,t,w),np.array([2.55, 2.94, 2.9 , 0.4 ]),decimal=3)\n"
      ],
      "metadata": {
        "id": "jAUXrMZcKzxO"
      },
      "execution_count": 17,
      "outputs": []
    },
    {
      "cell_type": "code",
      "source": [
        "def MAE_Gradient (X, t, w, lamda=0): # Output should have the same size as w\n",
        "\n",
        "    #The bias term is not considered while estimating the MAE_gradient\n",
        "    grad = (1/len(X))*np.dot(np.transpose(X),(Prediction(X,w)-t)/abs(Prediction(X,w)-t))\n",
        "    bias_grad=(1/len(X))*np.sum((Prediction(X,w)-t)/abs(Prediction(X,w)-t))\n",
        "    grad = np.append(grad,bias_grad)\n",
        "    return grad\n",
        "    raise NotImplementedError()"
      ],
      "metadata": {
        "id": "U13PNPl0K2L-"
      },
      "execution_count": 18,
      "outputs": []
    },
    {
      "cell_type": "code",
      "source": [
        "'''\n",
        "TEST CASES, DO NOT CHANGE\n",
        "'''\n",
        "''' case 1 '''\n",
        "X=np.array([[3,6,5],[4.5,6.6,6]])\n",
        "t=np.array([4,5.5])\n",
        "w=np.array([2,-1,0.5,1])\n",
        "np.testing.assert_array_almost_equal(MAE_Gradient(X,t,w),np.array([0.75,  0.3 ,  0.5 , 0.]),decimal=3)\n"
      ],
      "metadata": {
        "id": "p4ni-n2kK6AN"
      },
      "execution_count": 19,
      "outputs": []
    },
    {
      "cell_type": "code",
      "source": [
        "def L2_Gradient (X, t, w, lamda=0): # Output should have the same size as w\n",
        "\n",
        "    #The bias term is not considered while estimating the L2_gradient\n",
        "    w1=w[:-1]\n",
        "    var = MSE_Gradient (X,t,w,lamda)[:-1] + lamda*((np.sum(w1**2))**(-1/2))*w1\n",
        "    bias_grad = MSE_Gradient(X,t,w,lamda)[-1]\n",
        "    var = np.append(var,bias_grad)\n",
        "    return var\n",
        "    raise NotImplementedError()"
      ],
      "metadata": {
        "id": "SP5eNUEZK8Nn"
      },
      "execution_count": 20,
      "outputs": []
    },
    {
      "cell_type": "code",
      "source": [
        "'''\n",
        "TEST CASES, DO NOT CHANGE\n",
        "'''\n",
        "''' case 1 '''\n",
        "X=np.array([[3,6,5],[4.5,6.6,6]])\n",
        "t=np.array([4,5.5])\n",
        "w=np.array([2,-1,0.5,1])\n",
        "np.testing.assert_array_almost_equal(L2_Gradient(X,t,w,0.5),np.array([2.986, 2.721, 3.009 , 0.4 ]),decimal=3)\n"
      ],
      "metadata": {
        "id": "2RNneuOvK9sj"
      },
      "execution_count": 21,
      "outputs": []
    },
    {
      "cell_type": "code",
      "source": [
        "def L1_Gradient (X, t, w, lamda): # Output should have the same size as w\n",
        "    mod_w=np.zeros(len(w))\n",
        "    \n",
        "    #The for loop is used for the derivative of absolute function\n",
        "    for i in range(len(w)):\n",
        "        # if the value is lesser than zero then derivative is -1 else 1\n",
        "        if(w[i] < 0):\n",
        "            mod_w[i] = -1\n",
        "        else:\n",
        "            mod_w[i] = 1\n",
        "    var = MSE_Gradient(X,t,w,lamda) + np.append(lamda*mod_w[:-1],0)\n",
        "    return var\n",
        "    raise NotImplementedError()"
      ],
      "metadata": {
        "id": "LYOTmQmFK_bm"
      },
      "execution_count": 22,
      "outputs": []
    },
    {
      "cell_type": "code",
      "source": [
        "'''\n",
        "TEST CASES, DO NOT CHANGE\n",
        "'''\n",
        "''' case 1 '''\n",
        "X=np.array([[3,6,5],[4.5,6.6,6]])\n",
        "t=np.array([4,5.5])\n",
        "w=np.array([2,-1,0.5,1])\n",
        "np.testing.assert_array_almost_equal(L1_Gradient(X,t,w,0.5),np.array([3.05, 2.44, 3.4 , 0.4 ]),decimal=3)\n"
      ],
      "metadata": {
        "id": "bh8-LgY7LA8q"
      },
      "execution_count": 23,
      "outputs": []
    },
    {
      "cell_type": "markdown",
      "source": [
        "## Gradient Descent Function\n"
      ],
      "metadata": {
        "id": "WnYGoR32j5j0"
      }
    },
    {
      "cell_type": "code",
      "source": [
        "def Gradient_Descent (X, X_val, t, t_val, w, lamda, max_iter, epsilon, lr, lossfunc, gradfunc): \n",
        "\n",
        "    #If the loss between the two iterations is lesser than threshold we will breakout of the loop\n",
        "    for i in range(max_iter):\n",
        "     \n",
        "        loss_1 = NRMSE_Metric(X,t,w)  #Storing the loss prior to the updation of w\n",
        "        w= w - lr * gradfunc(X,t,w,lamda)\n",
        "        loss_2 = NRMSE_Metric(X,t,w)  #Computing the loss after the updation of w \n",
        "        diff = abs (loss_1 - loss_2)  #Estimating the change in the loss\n",
        "\n",
        "        #Checking if the difference in loss prior to updation and  after updation is less than threshold then we exit the for loop\n",
        "        if(diff < epsilon):\n",
        "            break\n",
        "        \n",
        "    \n",
        "    w_final = w   #Final weights after the gradient descent\n",
        "\n",
        "    #Estimating the training and validation loss after final updation\n",
        "    train_loss_final = lossfunc(X,t,w,lamda)\n",
        "    validation_loss_final = lossfunc(X_val,t_val,w,lamda)\n",
        "    validation_NRMSE = NRMSE_Metric(X_val,t_val,w)\n",
        "    \n",
        "    return w_final, train_loss_final, validation_loss_final, validation_NRMSE \n",
        "    raise NotImplementedError()"
      ],
      "metadata": {
        "id": "k56WIIq0LD6U"
      },
      "execution_count": 24,
      "outputs": []
    },
    {
      "cell_type": "code",
      "source": [
        "'''\n",
        "TEST CASES, DO NOT CHANGE\n",
        "'''\n",
        "X=np.array([[23,24],[1,2]])\n",
        "t=np.array([4,5])\n",
        "X_val=np.array([[3,4],[5,6]])\n",
        "t_val=np.array([3,4])\n",
        "w=np.array([3,2,1])\n",
        "results =Gradient_Descent (X, X_val, t, t_val, w, 0.1, 100, 1e-10, 1e-5, L2_Loss,L2_Gradient) \n",
        "np.testing.assert_allclose([results[1]],[697.919],rtol =0.05)\n",
        "np.testing.assert_allclose([results[2]],[20],atol=5) # we expect around 17.5  but some students got 24 which we will also accept\n",
        "#Instructor Values of results[1] and results [2] are 697.919 and 17.512 respectively"
      ],
      "metadata": {
        "id": "ui4uNpoALF8B"
      },
      "execution_count": 25,
      "outputs": []
    },
    {
      "cell_type": "markdown",
      "source": [
        "## Pseudo Inverse Method\n",
        "\n",
        "The weights are calculated using the following formula\n",
        "\n",
        "w = (X' X + lambda I)^(-1) X' t.\n",
        "\n",
        "Here, the column of 1's in assumed to be included in X"
      ],
      "metadata": {
        "id": "oU8nSwdyoM7u"
      }
    },
    {
      "cell_type": "code",
      "source": [
        "def Pseudo_Inverse (X, t, lamda): # Output should be weight vector\n",
        "    #Adding ones to X\n",
        "    ones =  np.ones((len(X),1))\n",
        "    _,col = X.shape\n",
        "\n",
        "    #Including columns of 1 to X\n",
        "    X = np.append(X,ones,axis=1)\n",
        "    X_T = np.transpose(X)         #Finding the transpose of X\n",
        "    I =  np.identity(col+1)       #Creating and indentity matrix with n=col+1\n",
        "    w =np.dot(np.linalg.inv(np.dot(X_T,X)+lamda*I),np.dot(X_T,t))    #Calculating the weights \n",
        "    return w\n",
        "    raise NotImplementedError()"
      ],
      "metadata": {
        "id": "tpDsWnGNLIM5"
      },
      "execution_count": 26,
      "outputs": []
    },
    {
      "cell_type": "code",
      "source": [
        "'''\n",
        "TEST CASES, DO NOT CHANGE\n",
        "'''\n",
        "''' case 1 - other data'''\n",
        "X=np.array([[3,6,5],[4.5,6.6,6]])\n",
        "t=np.array([4,5.5])\n",
        "np.testing.assert_array_almost_equal(Pseudo_Inverse(X,t,0.5),np.array([ 0.491,  0.183,  0.319, -0.002]),decimal=3)"
      ],
      "metadata": {
        "id": "7AAs4qqi6Y01"
      },
      "execution_count": 27,
      "outputs": []
    },
    {
      "cell_type": "markdown",
      "source": [
        "##Part 2\n",
        "\n",
        "The following are the objects for this part\n",
        "1. Find the best lamda for **MSE+lamda*L2(w)** loss function. Plot training and validation RMSE vs. 1/lamda (1/lamda represents model complexity). Print weights, validation RMSE, validation NRMSE for the best lamda.\n",
        "2. Find the best lamda for **MSE+lamda*L1(w)** loss function. Plot training and validation RMSE vs. 1/lamda (1/lamda represents model complexity). Print weights, validation RMSE, validation NRMSE for the best lamda.\n",
        "3. Find the best lamda for the **pseudo-inv method**. Plot training and validation RMSE vs. 1/lamda (1/lamda represents model complexity). Print weights, validation RMSE, validation NRMSE for the best lamda."
      ],
      "metadata": {
        "id": "t-0slpmT3J2m"
      }
    },
    {
      "cell_type": "code",
      "source": [
        "#Reading the training dataset\n",
        "dataset = pd.read_csv(\"https://www.ee.iitb.ac.in/~asethi/Dump/TempTrain.csv\")\n",
        "\n",
        "#Printing the first five rows of the dataset\n",
        "dataset.head()"
      ],
      "metadata": {
        "colab": {
          "base_uri": "https://localhost:8080/",
          "height": 287
        },
        "id": "pab5DKJcLKIh",
        "outputId": "251ea7fa-9392-4d6c-a46f-7e64a40a6cfa"
      },
      "execution_count": 28,
      "outputs": [
        {
          "output_type": "execute_result",
          "data": {
            "text/html": [
              "\n",
              "  <div id=\"df-2d6f7e4e-635c-45ee-88ca-f4e923056194\">\n",
              "    <div class=\"colab-df-container\">\n",
              "      <div>\n",
              "<style scoped>\n",
              "    .dataframe tbody tr th:only-of-type {\n",
              "        vertical-align: middle;\n",
              "    }\n",
              "\n",
              "    .dataframe tbody tr th {\n",
              "        vertical-align: top;\n",
              "    }\n",
              "\n",
              "    .dataframe thead th {\n",
              "        text-align: right;\n",
              "    }\n",
              "</style>\n",
              "<table border=\"1\" class=\"dataframe\">\n",
              "  <thead>\n",
              "    <tr style=\"text-align: right;\">\n",
              "      <th></th>\n",
              "      <th>Present_Tmax</th>\n",
              "      <th>Present_Tmin</th>\n",
              "      <th>LDAPS_RHmin</th>\n",
              "      <th>LDAPS_RHmax</th>\n",
              "      <th>LDAPS_Tmax_lapse</th>\n",
              "      <th>LDAPS_Tmin_lapse</th>\n",
              "      <th>LDAPS_WS</th>\n",
              "      <th>LDAPS_LH</th>\n",
              "      <th>LDAPS_CC1</th>\n",
              "      <th>LDAPS_CC2</th>\n",
              "      <th>LDAPS_CC3</th>\n",
              "      <th>LDAPS_CC4</th>\n",
              "      <th>LDAPS_PPT1</th>\n",
              "      <th>LDAPS_PPT2</th>\n",
              "      <th>LDAPS_PPT3</th>\n",
              "      <th>LDAPS_PPT4</th>\n",
              "      <th>lat</th>\n",
              "      <th>lon</th>\n",
              "      <th>DEM</th>\n",
              "      <th>Slope</th>\n",
              "      <th>Solar radiation</th>\n",
              "      <th>Next_Tmax</th>\n",
              "    </tr>\n",
              "  </thead>\n",
              "  <tbody>\n",
              "    <tr>\n",
              "      <th>0</th>\n",
              "      <td>28.7</td>\n",
              "      <td>21.4</td>\n",
              "      <td>58.255688</td>\n",
              "      <td>91.116364</td>\n",
              "      <td>28.074101</td>\n",
              "      <td>23.006936</td>\n",
              "      <td>6.818887</td>\n",
              "      <td>69.451805</td>\n",
              "      <td>0.233947</td>\n",
              "      <td>0.203896</td>\n",
              "      <td>0.161697</td>\n",
              "      <td>0.130928</td>\n",
              "      <td>0.0</td>\n",
              "      <td>0.0</td>\n",
              "      <td>0.0</td>\n",
              "      <td>0.0</td>\n",
              "      <td>37.6046</td>\n",
              "      <td>126.991</td>\n",
              "      <td>212.3350</td>\n",
              "      <td>2.7850</td>\n",
              "      <td>5992.895996</td>\n",
              "      <td>29.1</td>\n",
              "    </tr>\n",
              "    <tr>\n",
              "      <th>1</th>\n",
              "      <td>31.9</td>\n",
              "      <td>21.6</td>\n",
              "      <td>52.263397</td>\n",
              "      <td>90.604721</td>\n",
              "      <td>29.850689</td>\n",
              "      <td>24.035009</td>\n",
              "      <td>5.691890</td>\n",
              "      <td>51.937448</td>\n",
              "      <td>0.225508</td>\n",
              "      <td>0.251771</td>\n",
              "      <td>0.159444</td>\n",
              "      <td>0.127727</td>\n",
              "      <td>0.0</td>\n",
              "      <td>0.0</td>\n",
              "      <td>0.0</td>\n",
              "      <td>0.0</td>\n",
              "      <td>37.6046</td>\n",
              "      <td>127.032</td>\n",
              "      <td>44.7624</td>\n",
              "      <td>0.5141</td>\n",
              "      <td>5869.312500</td>\n",
              "      <td>30.5</td>\n",
              "    </tr>\n",
              "    <tr>\n",
              "      <th>2</th>\n",
              "      <td>31.6</td>\n",
              "      <td>23.3</td>\n",
              "      <td>48.690479</td>\n",
              "      <td>83.973587</td>\n",
              "      <td>30.091292</td>\n",
              "      <td>24.565633</td>\n",
              "      <td>6.138224</td>\n",
              "      <td>20.573050</td>\n",
              "      <td>0.209344</td>\n",
              "      <td>0.257469</td>\n",
              "      <td>0.204091</td>\n",
              "      <td>0.142125</td>\n",
              "      <td>0.0</td>\n",
              "      <td>0.0</td>\n",
              "      <td>0.0</td>\n",
              "      <td>0.0</td>\n",
              "      <td>37.5776</td>\n",
              "      <td>127.058</td>\n",
              "      <td>33.3068</td>\n",
              "      <td>0.2661</td>\n",
              "      <td>5863.555664</td>\n",
              "      <td>31.1</td>\n",
              "    </tr>\n",
              "    <tr>\n",
              "      <th>3</th>\n",
              "      <td>32.0</td>\n",
              "      <td>23.4</td>\n",
              "      <td>58.239788</td>\n",
              "      <td>96.483688</td>\n",
              "      <td>29.704629</td>\n",
              "      <td>23.326177</td>\n",
              "      <td>5.650050</td>\n",
              "      <td>65.727144</td>\n",
              "      <td>0.216372</td>\n",
              "      <td>0.226002</td>\n",
              "      <td>0.161157</td>\n",
              "      <td>0.134249</td>\n",
              "      <td>0.0</td>\n",
              "      <td>0.0</td>\n",
              "      <td>0.0</td>\n",
              "      <td>0.0</td>\n",
              "      <td>37.6450</td>\n",
              "      <td>127.022</td>\n",
              "      <td>45.7160</td>\n",
              "      <td>2.5348</td>\n",
              "      <td>5856.964844</td>\n",
              "      <td>31.7</td>\n",
              "    </tr>\n",
              "    <tr>\n",
              "      <th>4</th>\n",
              "      <td>31.4</td>\n",
              "      <td>21.9</td>\n",
              "      <td>56.174095</td>\n",
              "      <td>90.155128</td>\n",
              "      <td>29.113934</td>\n",
              "      <td>23.486480</td>\n",
              "      <td>5.735004</td>\n",
              "      <td>107.965535</td>\n",
              "      <td>0.151407</td>\n",
              "      <td>0.249995</td>\n",
              "      <td>0.178892</td>\n",
              "      <td>0.170021</td>\n",
              "      <td>0.0</td>\n",
              "      <td>0.0</td>\n",
              "      <td>0.0</td>\n",
              "      <td>0.0</td>\n",
              "      <td>37.5507</td>\n",
              "      <td>127.135</td>\n",
              "      <td>35.0380</td>\n",
              "      <td>0.5055</td>\n",
              "      <td>5859.552246</td>\n",
              "      <td>31.2</td>\n",
              "    </tr>\n",
              "  </tbody>\n",
              "</table>\n",
              "</div>\n",
              "      <button class=\"colab-df-convert\" onclick=\"convertToInteractive('df-2d6f7e4e-635c-45ee-88ca-f4e923056194')\"\n",
              "              title=\"Convert this dataframe to an interactive table.\"\n",
              "              style=\"display:none;\">\n",
              "        \n",
              "  <svg xmlns=\"http://www.w3.org/2000/svg\" height=\"24px\"viewBox=\"0 0 24 24\"\n",
              "       width=\"24px\">\n",
              "    <path d=\"M0 0h24v24H0V0z\" fill=\"none\"/>\n",
              "    <path d=\"M18.56 5.44l.94 2.06.94-2.06 2.06-.94-2.06-.94-.94-2.06-.94 2.06-2.06.94zm-11 1L8.5 8.5l.94-2.06 2.06-.94-2.06-.94L8.5 2.5l-.94 2.06-2.06.94zm10 10l.94 2.06.94-2.06 2.06-.94-2.06-.94-.94-2.06-.94 2.06-2.06.94z\"/><path d=\"M17.41 7.96l-1.37-1.37c-.4-.4-.92-.59-1.43-.59-.52 0-1.04.2-1.43.59L10.3 9.45l-7.72 7.72c-.78.78-.78 2.05 0 2.83L4 21.41c.39.39.9.59 1.41.59.51 0 1.02-.2 1.41-.59l7.78-7.78 2.81-2.81c.8-.78.8-2.07 0-2.86zM5.41 20L4 18.59l7.72-7.72 1.47 1.35L5.41 20z\"/>\n",
              "  </svg>\n",
              "      </button>\n",
              "      \n",
              "  <style>\n",
              "    .colab-df-container {\n",
              "      display:flex;\n",
              "      flex-wrap:wrap;\n",
              "      gap: 12px;\n",
              "    }\n",
              "\n",
              "    .colab-df-convert {\n",
              "      background-color: #E8F0FE;\n",
              "      border: none;\n",
              "      border-radius: 50%;\n",
              "      cursor: pointer;\n",
              "      display: none;\n",
              "      fill: #1967D2;\n",
              "      height: 32px;\n",
              "      padding: 0 0 0 0;\n",
              "      width: 32px;\n",
              "    }\n",
              "\n",
              "    .colab-df-convert:hover {\n",
              "      background-color: #E2EBFA;\n",
              "      box-shadow: 0px 1px 2px rgba(60, 64, 67, 0.3), 0px 1px 3px 1px rgba(60, 64, 67, 0.15);\n",
              "      fill: #174EA6;\n",
              "    }\n",
              "\n",
              "    [theme=dark] .colab-df-convert {\n",
              "      background-color: #3B4455;\n",
              "      fill: #D2E3FC;\n",
              "    }\n",
              "\n",
              "    [theme=dark] .colab-df-convert:hover {\n",
              "      background-color: #434B5C;\n",
              "      box-shadow: 0px 1px 3px 1px rgba(0, 0, 0, 0.15);\n",
              "      filter: drop-shadow(0px 1px 2px rgba(0, 0, 0, 0.3));\n",
              "      fill: #FFFFFF;\n",
              "    }\n",
              "  </style>\n",
              "\n",
              "      <script>\n",
              "        const buttonEl =\n",
              "          document.querySelector('#df-2d6f7e4e-635c-45ee-88ca-f4e923056194 button.colab-df-convert');\n",
              "        buttonEl.style.display =\n",
              "          google.colab.kernel.accessAllowed ? 'block' : 'none';\n",
              "\n",
              "        async function convertToInteractive(key) {\n",
              "          const element = document.querySelector('#df-2d6f7e4e-635c-45ee-88ca-f4e923056194');\n",
              "          const dataTable =\n",
              "            await google.colab.kernel.invokeFunction('convertToInteractive',\n",
              "                                                     [key], {});\n",
              "          if (!dataTable) return;\n",
              "\n",
              "          const docLinkHtml = 'Like what you see? Visit the ' +\n",
              "            '<a target=\"_blank\" href=https://colab.research.google.com/notebooks/data_table.ipynb>data table notebook</a>'\n",
              "            + ' to learn more about interactive tables.';\n",
              "          element.innerHTML = '';\n",
              "          dataTable['output_type'] = 'display_data';\n",
              "          await google.colab.output.renderOutput(dataTable, element);\n",
              "          const docLink = document.createElement('div');\n",
              "          docLink.innerHTML = docLinkHtml;\n",
              "          element.appendChild(docLink);\n",
              "        }\n",
              "      </script>\n",
              "    </div>\n",
              "  </div>\n",
              "  "
            ],
            "text/plain": [
              "   Present_Tmax  Present_Tmin  LDAPS_RHmin  ...   Slope  Solar radiation  Next_Tmax\n",
              "0          28.7          21.4    58.255688  ...  2.7850      5992.895996       29.1\n",
              "1          31.9          21.6    52.263397  ...  0.5141      5869.312500       30.5\n",
              "2          31.6          23.3    48.690479  ...  0.2661      5863.555664       31.1\n",
              "3          32.0          23.4    58.239788  ...  2.5348      5856.964844       31.7\n",
              "4          31.4          21.9    56.174095  ...  0.5055      5859.552246       31.2\n",
              "\n",
              "[5 rows x 22 columns]"
            ]
          },
          "metadata": {},
          "execution_count": 28
        }
      ]
    },
    {
      "cell_type": "code",
      "source": [
        "#Splitting the data into 80:20 \n",
        "#Since the data contains 6082 sample/data points 80% of it is 4866\n",
        "\n",
        "Y_train = (dataset.iloc[:4866,[-1]].to_numpy()).reshape(4866,)\n",
        "Y_test = (dataset.iloc[4866:,[-1]].to_numpy()).reshape(1216,)\n",
        "\n",
        "#Normalizing the data\n",
        "X_= dataset.iloc[:,:-1]\n",
        "X_= Normalize(X_.to_numpy())\n",
        "\n",
        "#Splitting the dataset into training and testing\n",
        "X_train = X_[:4866,:]\n",
        "X_test = X_[4866:,:]"
      ],
      "metadata": {
        "id": "FAhUlrU4LN-E"
      },
      "execution_count": 30,
      "outputs": []
    },
    {
      "cell_type": "markdown",
      "source": [
        "##Finding the best lamda for **MSE+lamda*L2(w)** loss function"
      ],
      "metadata": {
        "id": "cjdOM0WM46-6"
      }
    },
    {
      "cell_type": "code",
      "source": [
        "#Initializing a list that will store weights of different lamda\n",
        "weights = []\n",
        "\n",
        "#Taking some values of lamda\n",
        "L = np.array([10,7.5,5,2.5,1,0.1,0.01])\n",
        "max_iter = 1000\n",
        "lr = 1e-2\n",
        "\n",
        "#initializing np array's to store the respective error values\n",
        "rmse_train = np.zeros(len(L))\n",
        "rmse_valid = np.zeros(len(L))\n",
        "nrmse_train = np.zeros(len(L))\n",
        "nrmse_valid = np.zeros(len(L))\n",
        "\n",
        "count=0\n",
        "\n",
        "for lamda in L:\n",
        "  #Generating random values for w in the range 0-1\n",
        "  w =np.random.rand(22)\n",
        "  grad = Gradient_Descent (X_train, X_test,Y_train,Y_test, w, lamda, max_iter, 1e-10, lr,L2_Loss ,L2_Gradient)\n",
        "  weights.append(grad[0])\n",
        "\n",
        "  #Estimating the errors \n",
        "  rmse_train[count] = (np.sqrt(MSE_Loss (X_train,Y_train,grad[0],lamda)))\n",
        "  rmse_valid[count] =(np.sqrt(MSE_Loss (X_test,Y_test,grad[0],lamda)))\n",
        "  nrmse_train[count] =NRMSE_Metric(X_train,Y_train,grad[0],lamda)\n",
        "  nrmse_valid[count] =NRMSE_Metric(X_test,Y_test,grad[0],lamda)\n",
        "  \n",
        "  print(\"RMSE Train: \", rmse_train[count],'NRMSE Train: ',nrmse_train[count],\"RMSE Valid: \",rmse_valid[count],'NRMSE Valid: ',nrmse_valid[count])\n",
        "  \n",
        "  count= count+1\n",
        "\n",
        "#Plotting the RMSE and NRMSE \n",
        "lamda_inv = 1/L\n",
        "plt.figure()\n",
        "plt.title('RMSE v/s Model complexity(1/lamda) ')\n",
        "plt.plot(lamda_inv,rmse_train,label='Training error')\n",
        "plt.plot(lamda_inv,rmse_valid,label='Validation error')\n",
        "plt.xlabel('1/lamda')\n",
        "plt.ylabel('RMSE')\n",
        "plt.legend()\n",
        "\n",
        "plt.figure()\n",
        "plt.title('NRMSE v/s Model complexity(1/lamda) ')\n",
        "plt.plot(lamda_inv,nrmse_train,label='Training error')\n",
        "plt.plot(lamda_inv,nrmse_valid,label='Validation error')\n",
        "plt.xlabel('1/lamda')\n",
        "plt.ylabel('NRMSE')\n",
        "plt.legend()"
      ],
      "metadata": {
        "colab": {
          "base_uri": "https://localhost:8080/",
          "height": 711
        },
        "id": "5Puz2t4lLQX1",
        "outputId": "f9895481-6306-4bcc-c44a-5b41f6382180"
      },
      "execution_count": 31,
      "outputs": [
        {
          "output_type": "stream",
          "name": "stdout",
          "text": [
            "RMSE Train:  2.739488394372402 NRMSE Train:  0.9788969585198156 RMSE Valid:  4.049072967511599 NRMSE Valid:  1.0594328161211988\n",
            "RMSE Train:  2.541611657366635 NRMSE Train:  0.9081899840297315 RMSE Valid:  3.7460452152739054 NRMSE Valid:  0.9801461380366215\n",
            "RMSE Train:  2.110367418311336 NRMSE Train:  0.7540941773610069 RMSE Valid:  2.9890721041986508 NRMSE Valid:  0.7820854556954642\n",
            "RMSE Train:  1.7155251127158566 NRMSE Train:  0.6130058147176919 RMSE Valid:  2.1122483522917856 NRMSE Valid:  0.5526660641018538\n",
            "RMSE Train:  1.5082316685636823 NRMSE Train:  0.5389339834887269 RMSE Valid:  1.593074501771933 NRMSE Valid:  0.4168251397900451\n",
            "RMSE Train:  1.4095047026452212 NRMSE Train:  0.5036560363873627 RMSE Valid:  1.4910472619196697 NRMSE Valid:  0.39012989203703047\n",
            "RMSE Train:  1.4017828765637876 NRMSE Train:  0.5008968087589988 RMSE Valid:  1.5086536058911493 NRMSE Valid:  0.39473656095235166\n"
          ]
        },
        {
          "output_type": "execute_result",
          "data": {
            "text/plain": [
              "<matplotlib.legend.Legend at 0x7f5caf30d750>"
            ]
          },
          "metadata": {},
          "execution_count": 31
        },
        {
          "output_type": "display_data",
          "data": {
            "image/png": "[encoded data removed]",
            "text/plain": [
              "<Figure size 432x288 with 1 Axes>"
            ]
          },
          "metadata": {
            "needs_background": "light"
          }
        },
        {
          "output_type": "display_data",
          "data": {
            "image/png": "[encoded data removed]",
            "text/plain": [
              "<Figure size 432x288 with 1 Axes>"
            ]
          },
          "metadata": {
            "needs_background": "light"
          }
        }
      ]
    },
    {
      "cell_type": "markdown",
      "source": [
        "##Finding the best lamda for **MSE+lamda*L1(w)** loss function"
      ],
      "metadata": {
        "id": "0RfLdXdy5Ghi"
      }
    },
    {
      "cell_type": "code",
      "source": [
        "#Initializing a list that will store weights of different lamda\n",
        "weights = []\n",
        "\n",
        "#Taking some values of lamda\n",
        "L = np.array([10,7.5,5,2.5,1,0.1,0.01])\n",
        "max_iter = 1000\n",
        "lr = 1e-2\n",
        "\n",
        "#initializing np array's to store the respective error values\n",
        "rmse_train = np.zeros(len(L))\n",
        "rmse_valid = np.zeros(len(L))\n",
        "nrmse_train = np.zeros(len(L))\n",
        "nrmse_valid = np.zeros(len(L))\n",
        "\n",
        "count=0\n",
        "\n",
        "for lamda in L:\n",
        "  #Generating random values for w in the range 0-1\n",
        "  w =np.random.rand(22)\n",
        "  grad = Gradient_Descent (X_train, X_test,Y_train,Y_test, w, lamda, max_iter, 1e-10, lr,L1_Loss ,L1_Gradient)\n",
        "  weights.append(grad[0])\n",
        "\n",
        "  #Estimating the errors \n",
        "  rmse_train[count] = (np.sqrt(MSE_Loss (X_train,Y_train,grad[0],lamda)))\n",
        "  rmse_valid[count] =(np.sqrt(MSE_Loss (X_test,Y_test,grad[0],lamda)))\n",
        "  nrmse_train[count] =NRMSE_Metric(X_train,Y_train,grad[0],lamda)\n",
        "  nrmse_valid[count] =NRMSE_Metric(X_test,Y_test,grad[0],lamda)\n",
        "  \n",
        "  print(\"RMSE Train: \", rmse_train[count],'NRMSE Train: ',nrmse_train[count],\"RMSE Valid: \",rmse_valid[count],'NRMSE Valid: ',nrmse_valid[count])\n",
        "  \n",
        "  count= count+1\n",
        "\n",
        "#Plotting the RMSE and NRMSE\n",
        "lamda_inv = 1/L\n",
        "plt.figure()\n",
        "plt.title('RMSE v/s Model complexity(1/lamda) ')\n",
        "plt.plot(lamda_inv,rmse_train,label='Training error')\n",
        "plt.plot(lamda_inv,rmse_valid,label='Validation error')\n",
        "plt.xlabel('1/lamda')\n",
        "plt.ylabel('RMSE')\n",
        "plt.legend()\n",
        "\n",
        "plt.figure()\n",
        "plt.title('NRMSE v/s Model complexity(1/lamda) ')\n",
        "plt.plot(lamda_inv,nrmse_train,label='Training error')\n",
        "plt.plot(lamda_inv,nrmse_valid,label='Validation error')\n",
        "plt.xlabel('1/lamda')\n",
        "plt.ylabel('NRMSE')\n",
        "plt.legend()"
      ],
      "metadata": {
        "colab": {
          "base_uri": "https://localhost:8080/",
          "height": 711
        },
        "id": "P7J-vBJELUlx",
        "outputId": "da6819a9-05e7-45c4-f194-464269bc0b23"
      },
      "execution_count": 32,
      "outputs": [
        {
          "output_type": "stream",
          "name": "stdout",
          "text": [
            "RMSE Train:  2.691057417338312 NRMSE Train:  0.9615911958036079 RMSE Valid:  3.983631244606216 NRMSE Valid:  1.042310104491707\n",
            "RMSE Train:  2.6974820867935034 NRMSE Train:  0.9638869125520714 RMSE Valid:  4.002629841438717 NRMSE Valid:  1.047281053917935\n",
            "RMSE Train:  2.6900663643782825 NRMSE Train:  0.9612370644518204 RMSE Valid:  3.9633596746301576 NRMSE Valid:  1.0370060838827297\n",
            "RMSE Train:  2.191422217562311 NRMSE Train:  0.7830573577209627 RMSE Valid:  3.102680523910407 NRMSE Valid:  0.8118108987773837\n",
            "RMSE Train:  1.6869234622976734 NRMSE Train:  0.6027856332193794 RMSE Valid:  2.0692077081123252 NRMSE Valid:  0.5414045552980894\n",
            "RMSE Train:  1.4349464751792662 NRMSE Train:  0.5127471038304993 RMSE Valid:  1.5028971546808 NRMSE Valid:  0.3932303956237499\n",
            "RMSE Train:  1.4044618979185055 NRMSE Train:  0.5018540991280073 RMSE Valid:  1.501529577077332 NRMSE Valid:  0.39287257135055664\n"
          ]
        },
        {
          "output_type": "execute_result",
          "data": {
            "text/plain": [
              "<matplotlib.legend.Legend at 0x7f5caed08a10>"
            ]
          },
          "metadata": {},
          "execution_count": 32
        },
        {
          "output_type": "display_data",
          "data": {
            "image/png": "[encoded data removed]",
            "text/plain": [
              "<Figure size 432x288 with 1 Axes>"
            ]
          },
          "metadata": {
            "needs_background": "light"
          }
        },
        {
          "output_type": "display_data",
          "data": {
            "image/png": "[encoded data removed]",
            "text/plain": [
              "<Figure size 432x288 with 1 Axes>"
            ]
          },
          "metadata": {
            "needs_background": "light"
          }
        }
      ]
    },
    {
      "cell_type": "markdown",
      "source": [
        "##Finding the best lamda for the **pseudo-inv method**"
      ],
      "metadata": {
        "id": "mS8t4NUl5Rgx"
      }
    },
    {
      "cell_type": "code",
      "source": [
        "#Initializing a list that will store weights of different lamda\n",
        "weights = []\n",
        "\n",
        "#Taking some values of lamda\n",
        "L = np.array([100,10,1,0.1,0.01])\n",
        "count=0\n",
        "\n",
        "rmse_train = np.zeros(len(L))\n",
        "rmse_valid = np.zeros(len(L))\n",
        "nrmse_train = np.zeros(len(L))\n",
        "nrmse_valid = np.zeros(len(L))\n",
        "\n",
        "for lamda in L:\n",
        "    #Using the pseudo inverse method to find weights\n",
        "    w = Pseudo_Inverse (X_train,Y_train, lamda)\n",
        "\n",
        "    weights.append(w)\n",
        "\n",
        "    rmse_train[count] = np.sqrt(MSE_Loss(X_train,Y_train,w,lamda))\n",
        "    rmse_valid[count] = np.sqrt(MSE_Loss(X_test,Y_test,w,lamda))\n",
        "    nrmse_train[count] =NRMSE_Metric(X_train,Y_train,grad[0],lamda)\n",
        "    nrmse_valid[count] =NRMSE_Metric(X_test,Y_test,grad[0],lamda)\n",
        "\n",
        "    print(\"Lamda: \",lamda,\" RMSE Train: \",round(rmse_train[count],3),\" RMSE Validation: \",round(rmse_valid[count],3))\n",
        "    count = count + 1\n",
        "\n",
        "#Plotting the RMSE and NRMSE\n",
        "lamda_inv = 1/L\n",
        "plt.figure()\n",
        "plt.title('RMSE v/s Model complexity(1/lamda) ')\n",
        "plt.plot(lamda_inv,rmse_train,label='Training error')\n",
        "plt.plot(lamda_inv,rmse_valid,label='Validation error')\n",
        "plt.xlabel('1/lamda')\n",
        "plt.ylabel('RMSE')\n",
        "plt.legend()\n",
        "\n",
        "\n",
        "plt.figure()\n",
        "plt.title('NRMSE v/s Model complexity(1/lamda) ')\n",
        "plt.plot(lamda_inv,nrmse_train)\n",
        "plt.plot(lamda_inv,nrmse_valid)\n",
        "plt.xlabel('1/lamda')\n",
        "plt.ylabel('NRMSE')\n",
        "plt.legend()"
      ],
      "metadata": {
        "colab": {
          "base_uri": "https://localhost:8080/",
          "height": 694
        },
        "id": "EUBlHjm8LcNr",
        "outputId": "a82aa5fd-e916-4ece-c726-7f3d70b08dd8"
      },
      "execution_count": 33,
      "outputs": [
        {
          "output_type": "stream",
          "name": "stderr",
          "text": [
            "No handles with labels found to put in legend.\n"
          ]
        },
        {
          "output_type": "stream",
          "name": "stdout",
          "text": [
            "Lamda:  100.0  RMSE Train:  1.536  RMSE Validation:  1.902\n",
            "Lamda:  10.0  RMSE Train:  1.401  RMSE Validation:  1.535\n",
            "Lamda:  1.0  RMSE Train:  1.399  RMSE Validation:  1.513\n",
            "Lamda:  0.1  RMSE Train:  1.399  RMSE Validation:  1.511\n",
            "Lamda:  0.01  RMSE Train:  1.399  RMSE Validation:  1.511\n"
          ]
        },
        {
          "output_type": "execute_result",
          "data": {
            "text/plain": [
              "<matplotlib.legend.Legend at 0x7f5cbd589550>"
            ]
          },
          "metadata": {},
          "execution_count": 33
        },
        {
          "output_type": "display_data",
          "data": {
            "image/png": "[encoded data removed]",
            "text/plain": [
              "<Figure size 432x288 with 1 Axes>"
            ]
          },
          "metadata": {
            "needs_background": "light"
          }
        },
        {
          "output_type": "display_data",
          "data": {
            "image/png": "[encoded data removed]",
            "text/plain": [
              "<Figure size 432x288 with 1 Axes>"
            ]
          },
          "metadata": {
            "needs_background": "light"
          }
        }
      ]
    },
    {
      "cell_type": "code",
      "source": [
        "#Reading the testing dataset\n",
        "dataset2 = pd.read_csv(\"https://www.ee.iitb.ac.in/~asethi/Dump/TempTest.csv\")\n",
        "\n",
        "#Printing the first five rows of the dataset\n",
        "dataset2.head()"
      ],
      "metadata": {
        "colab": {
          "base_uri": "https://localhost:8080/",
          "height": 287
        },
        "id": "x_ArdHE6LlfA",
        "outputId": "89bc30ba-c889-4b53-a408-a3e9248aa8a4"
      },
      "execution_count": 34,
      "outputs": [
        {
          "output_type": "execute_result",
          "data": {
            "text/html": [
              "\n",
              "  <div id=\"df-1b53d897-837b-44ab-a1f2-7cac1539a424\">\n",
              "    <div class=\"colab-df-container\">\n",
              "      <div>\n",
              "<style scoped>\n",
              "    .dataframe tbody tr th:only-of-type {\n",
              "        vertical-align: middle;\n",
              "    }\n",
              "\n",
              "    .dataframe tbody tr th {\n",
              "        vertical-align: top;\n",
              "    }\n",
              "\n",
              "    .dataframe thead th {\n",
              "        text-align: right;\n",
              "    }\n",
              "</style>\n",
              "<table border=\"1\" class=\"dataframe\">\n",
              "  <thead>\n",
              "    <tr style=\"text-align: right;\">\n",
              "      <th></th>\n",
              "      <th>Present_Tmax</th>\n",
              "      <th>Present_Tmin</th>\n",
              "      <th>LDAPS_RHmin</th>\n",
              "      <th>LDAPS_RHmax</th>\n",
              "      <th>LDAPS_Tmax_lapse</th>\n",
              "      <th>LDAPS_Tmin_lapse</th>\n",
              "      <th>LDAPS_WS</th>\n",
              "      <th>LDAPS_LH</th>\n",
              "      <th>LDAPS_CC1</th>\n",
              "      <th>LDAPS_CC2</th>\n",
              "      <th>LDAPS_CC3</th>\n",
              "      <th>LDAPS_CC4</th>\n",
              "      <th>LDAPS_PPT1</th>\n",
              "      <th>LDAPS_PPT2</th>\n",
              "      <th>LDAPS_PPT3</th>\n",
              "      <th>LDAPS_PPT4</th>\n",
              "      <th>lat</th>\n",
              "      <th>lon</th>\n",
              "      <th>DEM</th>\n",
              "      <th>Slope</th>\n",
              "      <th>Solar radiation</th>\n",
              "    </tr>\n",
              "  </thead>\n",
              "  <tbody>\n",
              "    <tr>\n",
              "      <th>0</th>\n",
              "      <td>27.9</td>\n",
              "      <td>19.9</td>\n",
              "      <td>58.964123</td>\n",
              "      <td>97.821373</td>\n",
              "      <td>26.798375</td>\n",
              "      <td>20.828714</td>\n",
              "      <td>6.397833</td>\n",
              "      <td>75.366664</td>\n",
              "      <td>0.197580</td>\n",
              "      <td>0.306510</td>\n",
              "      <td>0.423613</td>\n",
              "      <td>0.842868</td>\n",
              "      <td>0.0</td>\n",
              "      <td>0.0</td>\n",
              "      <td>0.0</td>\n",
              "      <td>0.025890</td>\n",
              "      <td>37.6046</td>\n",
              "      <td>126.991</td>\n",
              "      <td>212.3350</td>\n",
              "      <td>2.7850</td>\n",
              "      <td>5992.895996</td>\n",
              "    </tr>\n",
              "    <tr>\n",
              "      <th>1</th>\n",
              "      <td>30.3</td>\n",
              "      <td>21.0</td>\n",
              "      <td>51.617828</td>\n",
              "      <td>89.577393</td>\n",
              "      <td>29.069652</td>\n",
              "      <td>22.979956</td>\n",
              "      <td>6.199736</td>\n",
              "      <td>54.449329</td>\n",
              "      <td>0.193229</td>\n",
              "      <td>0.311707</td>\n",
              "      <td>0.431707</td>\n",
              "      <td>0.816846</td>\n",
              "      <td>0.0</td>\n",
              "      <td>0.0</td>\n",
              "      <td>0.0</td>\n",
              "      <td>0.031924</td>\n",
              "      <td>37.6046</td>\n",
              "      <td>127.032</td>\n",
              "      <td>44.7624</td>\n",
              "      <td>0.5141</td>\n",
              "      <td>5869.312500</td>\n",
              "    </tr>\n",
              "    <tr>\n",
              "      <th>2</th>\n",
              "      <td>30.2</td>\n",
              "      <td>22.5</td>\n",
              "      <td>47.538521</td>\n",
              "      <td>85.529457</td>\n",
              "      <td>29.696974</td>\n",
              "      <td>23.554281</td>\n",
              "      <td>6.269956</td>\n",
              "      <td>14.450297</td>\n",
              "      <td>0.200518</td>\n",
              "      <td>0.301901</td>\n",
              "      <td>0.410575</td>\n",
              "      <td>0.825653</td>\n",
              "      <td>0.0</td>\n",
              "      <td>0.0</td>\n",
              "      <td>0.0</td>\n",
              "      <td>0.011254</td>\n",
              "      <td>37.5776</td>\n",
              "      <td>127.058</td>\n",
              "      <td>33.3068</td>\n",
              "      <td>0.2661</td>\n",
              "      <td>5863.555664</td>\n",
              "    </tr>\n",
              "    <tr>\n",
              "      <th>3</th>\n",
              "      <td>30.7</td>\n",
              "      <td>22.0</td>\n",
              "      <td>59.407711</td>\n",
              "      <td>98.806969</td>\n",
              "      <td>28.234872</td>\n",
              "      <td>21.380987</td>\n",
              "      <td>6.755825</td>\n",
              "      <td>105.226457</td>\n",
              "      <td>0.186295</td>\n",
              "      <td>0.302106</td>\n",
              "      <td>0.397818</td>\n",
              "      <td>0.781959</td>\n",
              "      <td>0.0</td>\n",
              "      <td>0.0</td>\n",
              "      <td>0.0</td>\n",
              "      <td>0.041682</td>\n",
              "      <td>37.6450</td>\n",
              "      <td>127.022</td>\n",
              "      <td>45.7160</td>\n",
              "      <td>2.5348</td>\n",
              "      <td>5856.964844</td>\n",
              "    </tr>\n",
              "    <tr>\n",
              "      <th>4</th>\n",
              "      <td>31.0</td>\n",
              "      <td>21.8</td>\n",
              "      <td>55.004128</td>\n",
              "      <td>92.867073</td>\n",
              "      <td>27.988202</td>\n",
              "      <td>22.164184</td>\n",
              "      <td>6.241006</td>\n",
              "      <td>104.791246</td>\n",
              "      <td>0.173245</td>\n",
              "      <td>0.291852</td>\n",
              "      <td>0.447998</td>\n",
              "      <td>0.823050</td>\n",
              "      <td>0.0</td>\n",
              "      <td>0.0</td>\n",
              "      <td>0.0</td>\n",
              "      <td>0.014004</td>\n",
              "      <td>37.5507</td>\n",
              "      <td>127.135</td>\n",
              "      <td>35.0380</td>\n",
              "      <td>0.5055</td>\n",
              "      <td>5859.552246</td>\n",
              "    </tr>\n",
              "  </tbody>\n",
              "</table>\n",
              "</div>\n",
              "      <button class=\"colab-df-convert\" onclick=\"convertToInteractive('df-1b53d897-837b-44ab-a1f2-7cac1539a424')\"\n",
              "              title=\"Convert this dataframe to an interactive table.\"\n",
              "              style=\"display:none;\">\n",
              "        \n",
              "  <svg xmlns=\"http://www.w3.org/2000/svg\" height=\"24px\"viewBox=\"0 0 24 24\"\n",
              "       width=\"24px\">\n",
              "    <path d=\"M0 0h24v24H0V0z\" fill=\"none\"/>\n",
              "    <path d=\"M18.56 5.44l.94 2.06.94-2.06 2.06-.94-2.06-.94-.94-2.06-.94 2.06-2.06.94zm-11 1L8.5 8.5l.94-2.06 2.06-.94-2.06-.94L8.5 2.5l-.94 2.06-2.06.94zm10 10l.94 2.06.94-2.06 2.06-.94-2.06-.94-.94-2.06-.94 2.06-2.06.94z\"/><path d=\"M17.41 7.96l-1.37-1.37c-.4-.4-.92-.59-1.43-.59-.52 0-1.04.2-1.43.59L10.3 9.45l-7.72 7.72c-.78.78-.78 2.05 0 2.83L4 21.41c.39.39.9.59 1.41.59.51 0 1.02-.2 1.41-.59l7.78-7.78 2.81-2.81c.8-.78.8-2.07 0-2.86zM5.41 20L4 18.59l7.72-7.72 1.47 1.35L5.41 20z\"/>\n",
              "  </svg>\n",
              "      </button>\n",
              "      \n",
              "  <style>\n",
              "    .colab-df-container {\n",
              "      display:flex;\n",
              "      flex-wrap:wrap;\n",
              "      gap: 12px;\n",
              "    }\n",
              "\n",
              "    .colab-df-convert {\n",
              "      background-color: #E8F0FE;\n",
              "      border: none;\n",
              "      border-radius: 50%;\n",
              "      cursor: pointer;\n",
              "      display: none;\n",
              "      fill: #1967D2;\n",
              "      height: 32px;\n",
              "      padding: 0 0 0 0;\n",
              "      width: 32px;\n",
              "    }\n",
              "\n",
              "    .colab-df-convert:hover {\n",
              "      background-color: #E2EBFA;\n",
              "      box-shadow: 0px 1px 2px rgba(60, 64, 67, 0.3), 0px 1px 3px 1px rgba(60, 64, 67, 0.15);\n",
              "      fill: #174EA6;\n",
              "    }\n",
              "\n",
              "    [theme=dark] .colab-df-convert {\n",
              "      background-color: #3B4455;\n",
              "      fill: #D2E3FC;\n",
              "    }\n",
              "\n",
              "    [theme=dark] .colab-df-convert:hover {\n",
              "      background-color: #434B5C;\n",
              "      box-shadow: 0px 1px 3px 1px rgba(0, 0, 0, 0.15);\n",
              "      filter: drop-shadow(0px 1px 2px rgba(0, 0, 0, 0.3));\n",
              "      fill: #FFFFFF;\n",
              "    }\n",
              "  </style>\n",
              "\n",
              "      <script>\n",
              "        const buttonEl =\n",
              "          document.querySelector('#df-1b53d897-837b-44ab-a1f2-7cac1539a424 button.colab-df-convert');\n",
              "        buttonEl.style.display =\n",
              "          google.colab.kernel.accessAllowed ? 'block' : 'none';\n",
              "\n",
              "        async function convertToInteractive(key) {\n",
              "          const element = document.querySelector('#df-1b53d897-837b-44ab-a1f2-7cac1539a424');\n",
              "          const dataTable =\n",
              "            await google.colab.kernel.invokeFunction('convertToInteractive',\n",
              "                                                     [key], {});\n",
              "          if (!dataTable) return;\n",
              "\n",
              "          const docLinkHtml = 'Like what you see? Visit the ' +\n",
              "            '<a target=\"_blank\" href=https://colab.research.google.com/notebooks/data_table.ipynb>data table notebook</a>'\n",
              "            + ' to learn more about interactive tables.';\n",
              "          element.innerHTML = '';\n",
              "          dataTable['output_type'] = 'display_data';\n",
              "          await google.colab.output.renderOutput(dataTable, element);\n",
              "          const docLink = document.createElement('div');\n",
              "          docLink.innerHTML = docLinkHtml;\n",
              "          element.appendChild(docLink);\n",
              "        }\n",
              "      </script>\n",
              "    </div>\n",
              "  </div>\n",
              "  "
            ],
            "text/plain": [
              "   Present_Tmax  Present_Tmin  LDAPS_RHmin  ...       DEM   Slope  Solar radiation\n",
              "0          27.9          19.9    58.964123  ...  212.3350  2.7850      5992.895996\n",
              "1          30.3          21.0    51.617828  ...   44.7624  0.5141      5869.312500\n",
              "2          30.2          22.5    47.538521  ...   33.3068  0.2661      5863.555664\n",
              "3          30.7          22.0    59.407711  ...   45.7160  2.5348      5856.964844\n",
              "4          31.0          21.8    55.004128  ...   35.0380  0.5055      5859.552246\n",
              "\n",
              "[5 rows x 21 columns]"
            ]
          },
          "metadata": {},
          "execution_count": 34
        }
      ]
    },
    {
      "cell_type": "code",
      "source": [
        "#Converting to numpy and normatizing the data\n",
        "test_X = dataset2.to_numpy()\n",
        "test_X = Normalize(test_X)\n",
        "\n",
        "#We have considered weights that are obtained from pseudo inverse method and lamda of 0.01\n",
        "weight = weights[3]\n",
        "\n",
        "#Predicting the Next day temperature using the test set data and the weights from pseudo inv method\n",
        "test_Y = Prediction(test_X,weight)\n",
        "\n",
        "pred_Y = pd.DataFrame(test_Y,columns=['Next_Tmax'])\n",
        "\n",
        "#pred_Y.to_csv(\"213010008_213010012_1.csv\")"
      ],
      "metadata": {
        "id": "ttiMMNqmO6PV"
      },
      "execution_count": 35,
      "outputs": []
    },
    {
      "cell_type": "code",
      "source": [
        "#Prediction using the validation data set and the weights that are found using the pseudo inverse method\n",
        "#X_test is the validation data from training set and test_X is the data form the test set \n",
        "\n",
        "valid_Y = Prediction(X_test,weight)\n",
        "\n",
        "#Estimating the R2 values for our model\n",
        "R2 = 1- np.sum(np.square(Y_test-valid_Y))/np.sum(np.square(Y_test-np.mean(valid_Y)))\n",
        "\n",
        "print(\"R2: \",round(R2,3))\n",
        "plt.plot(Y_test,valid_Y,'o')\n",
        "plt.plot(Y_test,Y_test)"
      ],
      "metadata": {
        "colab": {
          "base_uri": "https://localhost:8080/",
          "height": 299
        },
        "id": "huDDWqO_Pae3",
        "outputId": "e5a0622f-07f6-4b37-ae2a-34b4f1531643"
      },
      "execution_count": 36,
      "outputs": [
        {
          "output_type": "stream",
          "name": "stdout",
          "text": [
            "R2:  0.846\n"
          ]
        },
        {
          "output_type": "execute_result",
          "data": {
            "text/plain": [
              "[<matplotlib.lines.Line2D at 0x7f5caec55050>]"
            ]
          },
          "metadata": {},
          "execution_count": 36
        },
        {
          "output_type": "display_data",
          "data": {
            "image/png": "[encoded data removed]",
            "text/plain": [
              "<Figure size 432x288 with 1 Axes>"
            ]
          },
          "metadata": {
            "needs_background": "light"
          }
        }
      ]
    },
    {
      "cell_type": "markdown",
      "source": [
        "##Discussion\n",
        "\n",
        "1. No null/nan value was present in the data\n",
        "2. While training the L2 and L1 model with learning rate of $10^{-5}$ it was observed that the error was increasing therefore we changed the learning rate $10^{-2}$ and it was observed that the error was decreasing\n",
        "3. For L1 and L2 to we can observed that error for values greater than $lamda = 0.01$ almost is same, and $lamda=0.01$ is the elbow point.\n",
        "4. The pseudo inverse method is faster as expected and gives lesser error compared to L1 and L2 method. Hence the pseudo inverse method is used to predict the values on the test set.\n",
        "5. The $R^2$ value for the model that is used is 0.846. The ${R^2}$ gives the information about the goodness of fit of the model. It can be intepreted as the percentage of variance in the dependent variable that the independent variable explains.\n",
        "\n",
        "\n",
        "##References \n",
        "[1]Training data: https://www.ee.iitb.ac.in/~asethi/Dump/TempTrain.csv\n",
        "\n",
        "[2]Testing data: https://www.ee.iitb.ac.in/~asethi/Dump/TempTest.csv\n",
        "\n",
        "[3] https://statisticsbyjim.com/regression/interpret-r-squared-regression/#:~:text=R%2Dsquared%20evaluates%20the%20scatter,multiple%20determination%20for%20multiple%20regression.&text=R%2Dsquared%20is%20the%20percentage,that%20a%20linear%20model%20explains\n",
        "\n",
        "\n",
        "[4] https://www.ncl.ac.uk/webtemplate/ask-assets/external/maths-resources/statistics/regression-and-correlation/coefficient-of-determination-r-squared.html#:~:text=R2%3D1%E2%88%92sum%20squared,i%E2%88%92%C2%AFy)2.&text=The%20sum%20squared%20regression%20is,from%20the%20mean%20all%20squared"
      ],
      "metadata": {
        "id": "NWQZRNujr_SC"
      }
    }
  ]
}