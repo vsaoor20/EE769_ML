{
  "nbformat": 4,
  "nbformat_minor": 0,
  "metadata": {
    "colab": {
      "name": "213010012_213010008_<3>.ipynb",
      "provenance": [],
      "collapsed_sections": []
    },
    "kernelspec": {
      "name": "python3",
      "display_name": "Python 3"
    },
    "language_info": {
      "name": "python"
    }
  },
  "cells": [
    {
      "cell_type": "markdown",
      "source": [
        "#PCA\n",
        "Submitted by: Vedanth S Saoor (213010012)__\n",
        "              Shipali (213010008)"
      ],
      "metadata": {
        "id": "hRqu3qkpk9MT"
      }
    },
    {
      "cell_type": "code",
      "execution_count": 10,
      "metadata": {
        "id": "vN1iRJo0Whmd"
      },
      "outputs": [],
      "source": [
        "import numpy as np\n",
        "import pandas as pd\n",
        "import seaborn as sns\n",
        "import matplotlib.pyplot as plt\n",
        "from matplotlib.pyplot import figure\n",
        "\n",
        "from sklearn.preprocessing import normalize\n",
        "from sklearn.decomposition import PCA"
      ]
    },
    {
      "cell_type": "code",
      "source": [
        "#reading the csv file\n",
        "data_pca = pd.read_csv('/content/sample_data/DataPCA.csv')\n",
        "data_pca.head()"
      ],
      "metadata": {
        "colab": {
          "base_uri": "https://localhost:8080/",
          "height": 206
        },
        "id": "pK79avReWmIo",
        "outputId": "2bf8ada4-12df-4553-bac0-450a636c4a6b"
      },
      "execution_count": 11,
      "outputs": [
        {
          "output_type": "execute_result",
          "data": {
            "text/plain": [
              "         x1        x2        x3        x4        x5        x6        x7\n",
              "0  0.840261 -1.088160  4.861744  4.273055  4.312457 -0.137834  0.076453\n",
              "1  1.320591 -1.174113  5.247360  3.295027  4.283410 -0.363759 -0.170605\n",
              "2  1.537909 -1.175882  5.556251  3.394183  3.971574 -0.888398  0.080617\n",
              "3  0.363552 -1.130608  4.329890  5.547488  4.539732  0.342330  0.251953\n",
              "4  1.567938 -1.114719  5.542104  2.493071  4.156157 -0.609694 -0.291367"
            ],
            "text/html": [
              "\n",
              "  <div id=\"df-c4abdaac-09bc-4a67-8e67-6ae6c429e579\">\n",
              "    <div class=\"colab-df-container\">\n",
              "      <div>\n",
              "<style scoped>\n",
              "    .dataframe tbody tr th:only-of-type {\n",
              "        vertical-align: middle;\n",
              "    }\n",
              "\n",
              "    .dataframe tbody tr th {\n",
              "        vertical-align: top;\n",
              "    }\n",
              "\n",
              "    .dataframe thead th {\n",
              "        text-align: right;\n",
              "    }\n",
              "</style>\n",
              "<table border=\"1\" class=\"dataframe\">\n",
              "  <thead>\n",
              "    <tr style=\"text-align: right;\">\n",
              "      <th></th>\n",
              "      <th>x1</th>\n",
              "      <th>x2</th>\n",
              "      <th>x3</th>\n",
              "      <th>x4</th>\n",
              "      <th>x5</th>\n",
              "      <th>x6</th>\n",
              "      <th>x7</th>\n",
              "    </tr>\n",
              "  </thead>\n",
              "  <tbody>\n",
              "    <tr>\n",
              "      <th>0</th>\n",
              "      <td>0.840261</td>\n",
              "      <td>-1.088160</td>\n",
              "      <td>4.861744</td>\n",
              "      <td>4.273055</td>\n",
              "      <td>4.312457</td>\n",
              "      <td>-0.137834</td>\n",
              "      <td>0.076453</td>\n",
              "    </tr>\n",
              "    <tr>\n",
              "      <th>1</th>\n",
              "      <td>1.320591</td>\n",
              "      <td>-1.174113</td>\n",
              "      <td>5.247360</td>\n",
              "      <td>3.295027</td>\n",
              "      <td>4.283410</td>\n",
              "      <td>-0.363759</td>\n",
              "      <td>-0.170605</td>\n",
              "    </tr>\n",
              "    <tr>\n",
              "      <th>2</th>\n",
              "      <td>1.537909</td>\n",
              "      <td>-1.175882</td>\n",
              "      <td>5.556251</td>\n",
              "      <td>3.394183</td>\n",
              "      <td>3.971574</td>\n",
              "      <td>-0.888398</td>\n",
              "      <td>0.080617</td>\n",
              "    </tr>\n",
              "    <tr>\n",
              "      <th>3</th>\n",
              "      <td>0.363552</td>\n",
              "      <td>-1.130608</td>\n",
              "      <td>4.329890</td>\n",
              "      <td>5.547488</td>\n",
              "      <td>4.539732</td>\n",
              "      <td>0.342330</td>\n",
              "      <td>0.251953</td>\n",
              "    </tr>\n",
              "    <tr>\n",
              "      <th>4</th>\n",
              "      <td>1.567938</td>\n",
              "      <td>-1.114719</td>\n",
              "      <td>5.542104</td>\n",
              "      <td>2.493071</td>\n",
              "      <td>4.156157</td>\n",
              "      <td>-0.609694</td>\n",
              "      <td>-0.291367</td>\n",
              "    </tr>\n",
              "  </tbody>\n",
              "</table>\n",
              "</div>\n",
              "      <button class=\"colab-df-convert\" onclick=\"convertToInteractive('df-c4abdaac-09bc-4a67-8e67-6ae6c429e579')\"\n",
              "              title=\"Convert this dataframe to an interactive table.\"\n",
              "              style=\"display:none;\">\n",
              "        \n",
              "  <svg xmlns=\"http://www.w3.org/2000/svg\" height=\"24px\"viewBox=\"0 0 24 24\"\n",
              "       width=\"24px\">\n",
              "    <path d=\"M0 0h24v24H0V0z\" fill=\"none\"/>\n",
              "    <path d=\"M18.56 5.44l.94 2.06.94-2.06 2.06-.94-2.06-.94-.94-2.06-.94 2.06-2.06.94zm-11 1L8.5 8.5l.94-2.06 2.06-.94-2.06-.94L8.5 2.5l-.94 2.06-2.06.94zm10 10l.94 2.06.94-2.06 2.06-.94-2.06-.94-.94-2.06-.94 2.06-2.06.94z\"/><path d=\"M17.41 7.96l-1.37-1.37c-.4-.4-.92-.59-1.43-.59-.52 0-1.04.2-1.43.59L10.3 9.45l-7.72 7.72c-.78.78-.78 2.05 0 2.83L4 21.41c.39.39.9.59 1.41.59.51 0 1.02-.2 1.41-.59l7.78-7.78 2.81-2.81c.8-.78.8-2.07 0-2.86zM5.41 20L4 18.59l7.72-7.72 1.47 1.35L5.41 20z\"/>\n",
              "  </svg>\n",
              "      </button>\n",
              "      \n",
              "  <style>\n",
              "    .colab-df-container {\n",
              "      display:flex;\n",
              "      flex-wrap:wrap;\n",
              "      gap: 12px;\n",
              "    }\n",
              "\n",
              "    .colab-df-convert {\n",
              "      background-color: #E8F0FE;\n",
              "      border: none;\n",
              "      border-radius: 50%;\n",
              "      cursor: pointer;\n",
              "      display: none;\n",
              "      fill: #1967D2;\n",
              "      height: 32px;\n",
              "      padding: 0 0 0 0;\n",
              "      width: 32px;\n",
              "    }\n",
              "\n",
              "    .colab-df-convert:hover {\n",
              "      background-color: #E2EBFA;\n",
              "      box-shadow: 0px 1px 2px rgba(60, 64, 67, 0.3), 0px 1px 3px 1px rgba(60, 64, 67, 0.15);\n",
              "      fill: #174EA6;\n",
              "    }\n",
              "\n",
              "    [theme=dark] .colab-df-convert {\n",
              "      background-color: #3B4455;\n",
              "      fill: #D2E3FC;\n",
              "    }\n",
              "\n",
              "    [theme=dark] .colab-df-convert:hover {\n",
              "      background-color: #434B5C;\n",
              "      box-shadow: 0px 1px 3px 1px rgba(0, 0, 0, 0.15);\n",
              "      filter: drop-shadow(0px 1px 2px rgba(0, 0, 0, 0.3));\n",
              "      fill: #FFFFFF;\n",
              "    }\n",
              "  </style>\n",
              "\n",
              "      <script>\n",
              "        const buttonEl =\n",
              "          document.querySelector('#df-c4abdaac-09bc-4a67-8e67-6ae6c429e579 button.colab-df-convert');\n",
              "        buttonEl.style.display =\n",
              "          google.colab.kernel.accessAllowed ? 'block' : 'none';\n",
              "\n",
              "        async function convertToInteractive(key) {\n",
              "          const element = document.querySelector('#df-c4abdaac-09bc-4a67-8e67-6ae6c429e579');\n",
              "          const dataTable =\n",
              "            await google.colab.kernel.invokeFunction('convertToInteractive',\n",
              "                                                     [key], {});\n",
              "          if (!dataTable) return;\n",
              "\n",
              "          const docLinkHtml = 'Like what you see? Visit the ' +\n",
              "            '<a target=\"_blank\" href=https://colab.research.google.com/notebooks/data_table.ipynb>data table notebook</a>'\n",
              "            + ' to learn more about interactive tables.';\n",
              "          element.innerHTML = '';\n",
              "          dataTable['output_type'] = 'display_data';\n",
              "          await google.colab.output.renderOutput(dataTable, element);\n",
              "          const docLink = document.createElement('div');\n",
              "          docLink.innerHTML = docLinkHtml;\n",
              "          element.appendChild(docLink);\n",
              "        }\n",
              "      </script>\n",
              "    </div>\n",
              "  </div>\n",
              "  "
            ]
          },
          "metadata": {},
          "execution_count": 11
        }
      ]
    },
    {
      "cell_type": "code",
      "source": [
        "data_pca = normalize(data_pca)"
      ],
      "metadata": {
        "id": "8lOgYhJPWmcM"
      },
      "execution_count": 12,
      "outputs": []
    },
    {
      "cell_type": "code",
      "source": [
        "#Estimating the variation explained versus the PCA dimension\n",
        "Explained_Variance = np.zeros(7)\n",
        "dimensions = np.arange(1,8,1)  #There are 7 possible PCA Dimensions\n",
        "for i in range(1,8):\n",
        "  pca = PCA(n_components = i)\n",
        "\n",
        "  #Training the PCA\n",
        "  pca.fit(data_pca)\n",
        "\n",
        "  #Estimating the Explained Variance for each number of dimensions considered \n",
        "  Explained_Variance[i-1] = np.sum(pca.explained_variance_ratio_)\n",
        "  #print(Explained_Variance[i-1])\n",
        "\n",
        "#Plotting the variance explained versus the PCA dimensions (Check what is a PCA Dimensions)\n",
        "plt.plot(dimensions,Explained_Variance)\n",
        "plt.xlabel('Dimensions')\n",
        "plt.ylabel('Explained Variance')"
      ],
      "metadata": {
        "colab": {
          "base_uri": "https://localhost:8080/",
          "height": 296
        },
        "id": "sR6ZvvFGWphR",
        "outputId": "d059f611-ecc1-43e9-adb9-b783414ceabb"
      },
      "execution_count": 13,
      "outputs": [
        {
          "output_type": "execute_result",
          "data": {
            "text/plain": [
              "Text(0, 0.5, 'Explained Variance')"
            ]
          },
          "metadata": {},
          "execution_count": 13
        },
        {
          "output_type": "display_data",
          "data": {
            "text/plain": [
              "<Figure size 432x288 with 1 Axes>"
            ],
            "image/png": "[encoded data removed]"
          },
          "metadata": {
            "needs_background": "light"
          }
        }
      ]
    },
    {
      "cell_type": "code",
      "source": [
        "data_pca.shape"
      ],
      "metadata": {
        "colab": {
          "base_uri": "https://localhost:8080/"
        },
        "id": "WRMGuui8WsjQ",
        "outputId": "773d4a26-ae15-45eb-e1e6-5aba66b72b64"
      },
      "execution_count": 14,
      "outputs": [
        {
          "output_type": "execute_result",
          "data": {
            "text/plain": [
              "(190, 7)"
            ]
          },
          "metadata": {},
          "execution_count": 14
        }
      ]
    },
    {
      "cell_type": "code",
      "source": [
        "#Reconstructing the data and calculating MSE\n",
        "pca = PCA()\n",
        "pca.fit(data_pca)\n",
        "y = pca.inverse_transform(data_pca)\n",
        "loss =  np.sum((data_pca - y)**2,axis=1).mean()\n",
        "loss"
      ],
      "metadata": {
        "colab": {
          "base_uri": "https://localhost:8080/"
        },
        "id": "pX3KPCyJWusE",
        "outputId": "7dc9ba49-3acb-4874-eee0-74c58db113d0"
      },
      "execution_count": 15,
      "outputs": [
        {
          "output_type": "execute_result",
          "data": {
            "text/plain": [
              "1.0083417347183765"
            ]
          },
          "metadata": {},
          "execution_count": 15
        }
      ]
    },
    {
      "cell_type": "markdown",
      "source": [
        "Discussion:\n",
        "\n",
        "We can observed from the Explained variance vs Dimension plot that approximately 99% of the variation is explained by considering 5 PCA dimensions. \n",
        "Upon reconstructing the data the estimate MSE is 1.008"
      ],
      "metadata": {
        "id": "XFEqeXJTfShn"
      }
    },
    {
      "cell_type": "code",
      "source": [
        ""
      ],
      "metadata": {
        "id": "s2uiTfuJfz0G"
      },
      "execution_count": 15,
      "outputs": []
    }
  ]
}