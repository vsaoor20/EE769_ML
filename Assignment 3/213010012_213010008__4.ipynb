{
  "nbformat": 4,
  "nbformat_minor": 0,
  "metadata": {
    "colab": {
      "name": "213010012_213010008_<4>.ipynb",
      "provenance": [],
      "collapsed_sections": []
    },
    "kernelspec": {
      "name": "python3",
      "display_name": "Python 3"
    },
    "language_info": {
      "name": "python"
    }
  },
  "cells": [
    {
      "cell_type": "markdown",
      "source": [
        "#KPCA\n",
        "Submitted by: Vedanth S Saoor (213010012)__\n",
        "              Shipali (213010008)"
      ],
      "metadata": {
        "id": "7yQUGZkulHjS"
      }
    },
    {
      "cell_type": "code",
      "execution_count": 2,
      "metadata": {
        "id": "g3jT9Z-MYm92"
      },
      "outputs": [],
      "source": [
        "import numpy as np\n",
        "import pandas as pd\n",
        "import seaborn as sns\n",
        "import matplotlib.pyplot as plt\n",
        "from matplotlib.pyplot import figure\n",
        "\n",
        "from sklearn.preprocessing import normalize\n",
        "from sklearn.decomposition import KernelPCA"
      ]
    },
    {
      "cell_type": "code",
      "source": [
        "#Reading the CSV file\n",
        "data_kpca = pd.read_csv('/content/sample_data/DataKPCA.csv')\n",
        "data_kpca.head()"
      ],
      "metadata": {
        "colab": {
          "base_uri": "https://localhost:8080/",
          "height": 206
        },
        "id": "38miMRDeYv2t",
        "outputId": "5c055692-e384-4e4c-a05f-985f525d1d7e"
      },
      "execution_count": 3,
      "outputs": [
        {
          "output_type": "execute_result",
          "data": {
            "text/plain": [
              "         x1         x2         x3         x4        x5        x6        x7\n",
              "0  2.596641  15.263178 -46.289607 -10.993265 -2.266729  1.935832  2.039688\n",
              "1  3.096286  14.784802 -48.175614  -8.799362 -2.220871  1.851201  1.921974\n",
              "2  3.360246  14.774917 -49.471841  -9.030501 -1.760447  1.753114  2.041933\n",
              "3  2.214819  15.027394 -43.200400 -13.565001 -2.643018  2.200463  2.141847\n",
              "4  3.398576  15.115756 -49.416644  -6.857672 -2.025936  1.788085  1.875540"
            ],
            "text/html": [
              "\n",
              "  <div id=\"df-faf978b5-cd74-460e-a648-d962621d8a60\">\n",
              "    <div class=\"colab-df-container\">\n",
              "      <div>\n",
              "<style scoped>\n",
              "    .dataframe tbody tr th:only-of-type {\n",
              "        vertical-align: middle;\n",
              "    }\n",
              "\n",
              "    .dataframe tbody tr th {\n",
              "        vertical-align: top;\n",
              "    }\n",
              "\n",
              "    .dataframe thead th {\n",
              "        text-align: right;\n",
              "    }\n",
              "</style>\n",
              "<table border=\"1\" class=\"dataframe\">\n",
              "  <thead>\n",
              "    <tr style=\"text-align: right;\">\n",
              "      <th></th>\n",
              "      <th>x1</th>\n",
              "      <th>x2</th>\n",
              "      <th>x3</th>\n",
              "      <th>x4</th>\n",
              "      <th>x5</th>\n",
              "      <th>x6</th>\n",
              "      <th>x7</th>\n",
              "    </tr>\n",
              "  </thead>\n",
              "  <tbody>\n",
              "    <tr>\n",
              "      <th>0</th>\n",
              "      <td>2.596641</td>\n",
              "      <td>15.263178</td>\n",
              "      <td>-46.289607</td>\n",
              "      <td>-10.993265</td>\n",
              "      <td>-2.266729</td>\n",
              "      <td>1.935832</td>\n",
              "      <td>2.039688</td>\n",
              "    </tr>\n",
              "    <tr>\n",
              "      <th>1</th>\n",
              "      <td>3.096286</td>\n",
              "      <td>14.784802</td>\n",
              "      <td>-48.175614</td>\n",
              "      <td>-8.799362</td>\n",
              "      <td>-2.220871</td>\n",
              "      <td>1.851201</td>\n",
              "      <td>1.921974</td>\n",
              "    </tr>\n",
              "    <tr>\n",
              "      <th>2</th>\n",
              "      <td>3.360246</td>\n",
              "      <td>14.774917</td>\n",
              "      <td>-49.471841</td>\n",
              "      <td>-9.030501</td>\n",
              "      <td>-1.760447</td>\n",
              "      <td>1.753114</td>\n",
              "      <td>2.041933</td>\n",
              "    </tr>\n",
              "    <tr>\n",
              "      <th>3</th>\n",
              "      <td>2.214819</td>\n",
              "      <td>15.027394</td>\n",
              "      <td>-43.200400</td>\n",
              "      <td>-13.565001</td>\n",
              "      <td>-2.643018</td>\n",
              "      <td>2.200463</td>\n",
              "      <td>2.141847</td>\n",
              "    </tr>\n",
              "    <tr>\n",
              "      <th>4</th>\n",
              "      <td>3.398576</td>\n",
              "      <td>15.115756</td>\n",
              "      <td>-49.416644</td>\n",
              "      <td>-6.857672</td>\n",
              "      <td>-2.025936</td>\n",
              "      <td>1.788085</td>\n",
              "      <td>1.875540</td>\n",
              "    </tr>\n",
              "  </tbody>\n",
              "</table>\n",
              "</div>\n",
              "      <button class=\"colab-df-convert\" onclick=\"convertToInteractive('df-faf978b5-cd74-460e-a648-d962621d8a60')\"\n",
              "              title=\"Convert this dataframe to an interactive table.\"\n",
              "              style=\"display:none;\">\n",
              "        \n",
              "  <svg xmlns=\"http://www.w3.org/2000/svg\" height=\"24px\"viewBox=\"0 0 24 24\"\n",
              "       width=\"24px\">\n",
              "    <path d=\"M0 0h24v24H0V0z\" fill=\"none\"/>\n",
              "    <path d=\"M18.56 5.44l.94 2.06.94-2.06 2.06-.94-2.06-.94-.94-2.06-.94 2.06-2.06.94zm-11 1L8.5 8.5l.94-2.06 2.06-.94-2.06-.94L8.5 2.5l-.94 2.06-2.06.94zm10 10l.94 2.06.94-2.06 2.06-.94-2.06-.94-.94-2.06-.94 2.06-2.06.94z\"/><path d=\"M17.41 7.96l-1.37-1.37c-.4-.4-.92-.59-1.43-.59-.52 0-1.04.2-1.43.59L10.3 9.45l-7.72 7.72c-.78.78-.78 2.05 0 2.83L4 21.41c.39.39.9.59 1.41.59.51 0 1.02-.2 1.41-.59l7.78-7.78 2.81-2.81c.8-.78.8-2.07 0-2.86zM5.41 20L4 18.59l7.72-7.72 1.47 1.35L5.41 20z\"/>\n",
              "  </svg>\n",
              "      </button>\n",
              "      \n",
              "  <style>\n",
              "    .colab-df-container {\n",
              "      display:flex;\n",
              "      flex-wrap:wrap;\n",
              "      gap: 12px;\n",
              "    }\n",
              "\n",
              "    .colab-df-convert {\n",
              "      background-color: #E8F0FE;\n",
              "      border: none;\n",
              "      border-radius: 50%;\n",
              "      cursor: pointer;\n",
              "      display: none;\n",
              "      fill: #1967D2;\n",
              "      height: 32px;\n",
              "      padding: 0 0 0 0;\n",
              "      width: 32px;\n",
              "    }\n",
              "\n",
              "    .colab-df-convert:hover {\n",
              "      background-color: #E2EBFA;\n",
              "      box-shadow: 0px 1px 2px rgba(60, 64, 67, 0.3), 0px 1px 3px 1px rgba(60, 64, 67, 0.15);\n",
              "      fill: #174EA6;\n",
              "    }\n",
              "\n",
              "    [theme=dark] .colab-df-convert {\n",
              "      background-color: #3B4455;\n",
              "      fill: #D2E3FC;\n",
              "    }\n",
              "\n",
              "    [theme=dark] .colab-df-convert:hover {\n",
              "      background-color: #434B5C;\n",
              "      box-shadow: 0px 1px 3px 1px rgba(0, 0, 0, 0.15);\n",
              "      filter: drop-shadow(0px 1px 2px rgba(0, 0, 0, 0.3));\n",
              "      fill: #FFFFFF;\n",
              "    }\n",
              "  </style>\n",
              "\n",
              "      <script>\n",
              "        const buttonEl =\n",
              "          document.querySelector('#df-faf978b5-cd74-460e-a648-d962621d8a60 button.colab-df-convert');\n",
              "        buttonEl.style.display =\n",
              "          google.colab.kernel.accessAllowed ? 'block' : 'none';\n",
              "\n",
              "        async function convertToInteractive(key) {\n",
              "          const element = document.querySelector('#df-faf978b5-cd74-460e-a648-d962621d8a60');\n",
              "          const dataTable =\n",
              "            await google.colab.kernel.invokeFunction('convertToInteractive',\n",
              "                                                     [key], {});\n",
              "          if (!dataTable) return;\n",
              "\n",
              "          const docLinkHtml = 'Like what you see? Visit the ' +\n",
              "            '<a target=\"_blank\" href=https://colab.research.google.com/notebooks/data_table.ipynb>data table notebook</a>'\n",
              "            + ' to learn more about interactive tables.';\n",
              "          element.innerHTML = '';\n",
              "          dataTable['output_type'] = 'display_data';\n",
              "          await google.colab.output.renderOutput(dataTable, element);\n",
              "          const docLink = document.createElement('div');\n",
              "          docLink.innerHTML = docLinkHtml;\n",
              "          element.appendChild(docLink);\n",
              "        }\n",
              "      </script>\n",
              "    </div>\n",
              "  </div>\n",
              "  "
            ]
          },
          "metadata": {},
          "execution_count": 3
        }
      ]
    },
    {
      "cell_type": "markdown",
      "source": [
        "Visualization of data"
      ],
      "metadata": {
        "id": "Klc5hL0of9r2"
      }
    },
    {
      "cell_type": "code",
      "source": [
        "plt.hist(data_kpca.x1)"
      ],
      "metadata": {
        "colab": {
          "base_uri": "https://localhost:8080/",
          "height": 352
        },
        "id": "SqX-oJXIZFuE",
        "outputId": "34b751cf-35c7-4333-e2e2-94a1f84056de"
      },
      "execution_count": 4,
      "outputs": [
        {
          "output_type": "execute_result",
          "data": {
            "text/plain": [
              "(array([ 5., 25., 34., 40., 25., 26., 17., 11.,  3.,  4.]),\n",
              " array([1.96431528, 2.24998049, 2.53564571, 2.82131092, 3.10697613,\n",
              "        3.39264134, 3.67830655, 3.96397176, 4.24963698, 4.53530219,\n",
              "        4.8209674 ]),\n",
              " <a list of 10 Patch objects>)"
            ]
          },
          "metadata": {},
          "execution_count": 4
        },
        {
          "output_type": "display_data",
          "data": {
            "text/plain": [
              "<Figure size 432x288 with 1 Axes>"
            ],
            "image/png": "[encoded data removed]"
          },
          "metadata": {
            "needs_background": "light"
          }
        }
      ]
    },
    {
      "cell_type": "code",
      "source": [
        "plt.hist(data_kpca.x2)"
      ],
      "metadata": {
        "colab": {
          "base_uri": "https://localhost:8080/",
          "height": 352
        },
        "id": "fKAonGvfZM5p",
        "outputId": "e78b02f7-f0ba-4eb0-8171-f404170f37d0"
      },
      "execution_count": 5,
      "outputs": [
        {
          "output_type": "execute_result",
          "data": {
            "text/plain": [
              "(array([ 2.,  7., 27., 28., 38., 46., 21., 12.,  5.,  4.]),\n",
              " array([11.5773286 , 12.29437492, 13.01142123, 13.72846755, 14.44551386,\n",
              "        15.16256018, 15.8796065 , 16.59665281, 17.31369913, 18.03074544,\n",
              "        18.74779176]),\n",
              " <a list of 10 Patch objects>)"
            ]
          },
          "metadata": {},
          "execution_count": 5
        },
        {
          "output_type": "display_data",
          "data": {
            "text/plain": [
              "<Figure size 432x288 with 1 Axes>"
            ],
            "image/png": "[encoded data removed]"
          },
          "metadata": {
            "needs_background": "light"
          }
        }
      ]
    },
    {
      "cell_type": "code",
      "source": [
        "plt.hist(data_kpca.x3)"
      ],
      "metadata": {
        "colab": {
          "base_uri": "https://localhost:8080/",
          "height": 352
        },
        "id": "cThSdo9mZNc5",
        "outputId": "c08a9f07-8cfa-4602-c71f-32d40c17bff3"
      },
      "execution_count": 6,
      "outputs": [
        {
          "output_type": "execute_result",
          "data": {
            "text/plain": [
              "(array([10., 17., 37., 36., 37., 20., 16., 10.,  3.,  4.]),\n",
              " array([-52.83723149, -51.63076369, -50.42429589, -49.2178281 ,\n",
              "        -48.0113603 , -46.8048925 , -45.5984247 , -44.3919569 ,\n",
              "        -43.18548911, -41.97902131, -40.77255351]),\n",
              " <a list of 10 Patch objects>)"
            ]
          },
          "metadata": {},
          "execution_count": 6
        },
        {
          "output_type": "display_data",
          "data": {
            "text/plain": [
              "<Figure size 432x288 with 1 Axes>"
            ],
            "image/png": "[encoded data removed]"
          },
          "metadata": {
            "needs_background": "light"
          }
        }
      ]
    },
    {
      "cell_type": "code",
      "source": [
        "plt.hist(data_kpca.x4)"
      ],
      "metadata": {
        "colab": {
          "base_uri": "https://localhost:8080/",
          "height": 352
        },
        "id": "ZQiiV3AdZNqK",
        "outputId": "6069605f-1da8-42cb-f861-6de31f4dc178"
      },
      "execution_count": 7,
      "outputs": [
        {
          "output_type": "execute_result",
          "data": {
            "text/plain": [
              "(array([ 6., 13., 28., 39., 39., 30., 17., 11.,  5.,  2.]),\n",
              " array([-14.06848763, -12.85237198, -11.63625633, -10.42014068,\n",
              "         -9.20402503,  -7.98790938,  -6.77179373,  -5.55567808,\n",
              "         -4.33956242,  -3.12344677,  -1.90733112]),\n",
              " <a list of 10 Patch objects>)"
            ]
          },
          "metadata": {},
          "execution_count": 7
        },
        {
          "output_type": "display_data",
          "data": {
            "text/plain": [
              "<Figure size 432x288 with 1 Axes>"
            ],
            "image/png": "[encoded data removed]"
          },
          "metadata": {
            "needs_background": "light"
          }
        }
      ]
    },
    {
      "cell_type": "code",
      "source": [
        "plt.hist(data_kpca.x5)"
      ],
      "metadata": {
        "colab": {
          "base_uri": "https://localhost:8080/",
          "height": 352
        },
        "id": "77DS6F-_ZN1P",
        "outputId": "c0153fdd-b0d8-48f3-9677-46bc1c9e8aba"
      },
      "execution_count": 8,
      "outputs": [
        {
          "output_type": "execute_result",
          "data": {
            "text/plain": [
              "(array([ 3.,  5., 13., 20., 30., 43., 34., 27., 11.,  4.]),\n",
              " array([-3.61344298, -3.34939818, -3.08535339, -2.82130859, -2.5572638 ,\n",
              "        -2.293219  , -2.02917421, -1.76512941, -1.50108462, -1.23703982,\n",
              "        -0.97299503]),\n",
              " <a list of 10 Patch objects>)"
            ]
          },
          "metadata": {},
          "execution_count": 8
        },
        {
          "output_type": "display_data",
          "data": {
            "text/plain": [
              "<Figure size 432x288 with 1 Axes>"
            ],
            "image/png": "[encoded data removed]"
          },
          "metadata": {
            "needs_background": "light"
          }
        }
      ]
    },
    {
      "cell_type": "code",
      "source": [
        "plt.hist(data_kpca.x6)"
      ],
      "metadata": {
        "colab": {
          "base_uri": "https://localhost:8080/",
          "height": 352
        },
        "id": "8ivtf01qZOAB",
        "outputId": "b8a619b7-f853-4d89-8836-99cb58de0bd9"
      },
      "execution_count": 9,
      "outputs": [
        {
          "output_type": "execute_result",
          "data": {
            "text/plain": [
              "(array([87., 41., 28., 13.,  9.,  3.,  4.,  2.,  0.,  3.]),\n",
              " array([1.75000637, 1.83310399, 1.91620161, 1.99929924, 2.08239686,\n",
              "        2.16549448, 2.24859211, 2.33168973, 2.41478735, 2.49788498,\n",
              "        2.5809826 ]),\n",
              " <a list of 10 Patch objects>)"
            ]
          },
          "metadata": {},
          "execution_count": 9
        },
        {
          "output_type": "display_data",
          "data": {
            "text/plain": [
              "<Figure size 432x288 with 1 Axes>"
            ],
            "image/png": "[encoded data removed]"
          },
          "metadata": {
            "needs_background": "light"
          }
        }
      ]
    },
    {
      "cell_type": "code",
      "source": [
        "plt.hist(data_kpca.x7)"
      ],
      "metadata": {
        "colab": {
          "base_uri": "https://localhost:8080/",
          "height": 352
        },
        "id": "uxNX1KrnZOK8",
        "outputId": "0a11a353-587c-4884-92b3-5884d53bd2b7"
      },
      "execution_count": 10,
      "outputs": [
        {
          "output_type": "execute_result",
          "data": {
            "text/plain": [
              "(array([12., 30., 45., 45., 20., 15., 13.,  5.,  3.,  2.]),\n",
              " array([1.76139371, 1.81853854, 1.87568337, 1.9328282 , 1.98997303,\n",
              "        2.04711786, 2.10426269, 2.16140752, 2.21855235, 2.27569718,\n",
              "        2.33284201]),\n",
              " <a list of 10 Patch objects>)"
            ]
          },
          "metadata": {},
          "execution_count": 10
        },
        {
          "output_type": "display_data",
          "data": {
            "text/plain": [
              "<Figure size 432x288 with 1 Axes>"
            ],
            "image/png": "[encoded data removed]"
          },
          "metadata": {
            "needs_background": "light"
          }
        }
      ]
    },
    {
      "cell_type": "code",
      "source": [
        "data_kpca = normalize(data_kpca)"
      ],
      "metadata": {
        "id": "6kgNB5CYY0gQ"
      },
      "execution_count": 11,
      "outputs": []
    },
    {
      "cell_type": "code",
      "source": [
        "#Estimationg of the Variance explained with KPCA dimensions\n",
        "kpca = KernelPCA(n_components = 7,kernel ='rbf')\n",
        "kpca.fit(data_kpca)\n",
        "#print(kpca.eigenvalues_)\n",
        "exp_var = kpca.eigenvalues_ / sum(kpca.eigenvalues_)\n",
        "#print(np.cumsum(exp_var))\n",
        "dimensions = np.arange(1,8,1)\n",
        "plt.plot(dimensions,np.cumsum(exp_var))\n",
        "plt.xlabel('Dimensions')\n",
        "plt.ylabel('Explained Varaiance')"
      ],
      "metadata": {
        "colab": {
          "base_uri": "https://localhost:8080/",
          "height": 296
        },
        "id": "hDD5WnsfY4kn",
        "outputId": "d0d8bdae-a1d8-4912-a4ed-d08b1902f353"
      },
      "execution_count": 12,
      "outputs": [
        {
          "output_type": "execute_result",
          "data": {
            "text/plain": [
              "Text(0, 0.5, 'Explained Varaiance')"
            ]
          },
          "metadata": {},
          "execution_count": 12
        },
        {
          "output_type": "display_data",
          "data": {
            "text/plain": [
              "<Figure size 432x288 with 1 Axes>"
            ],
            "image/png": "[encoded data removed]"
          },
          "metadata": {
            "needs_background": "light"
          }
        }
      ]
    },
    {
      "cell_type": "markdown",
      "source": [
        "Discussion:\n",
        "\n",
        "It can be seen that approximately 99% of the variance is explained when we consider 4 KPCA dimensions"
      ],
      "metadata": {
        "id": "hv23QUz6gSis"
      }
    },
    {
      "cell_type": "code",
      "source": [
        ""
      ],
      "metadata": {
        "id": "CAFOIF9KY5Ho"
      },
      "execution_count": 12,
      "outputs": []
    }
  ]
}